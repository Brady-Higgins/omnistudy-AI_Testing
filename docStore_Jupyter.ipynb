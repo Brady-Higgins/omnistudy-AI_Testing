{
 "cells": [
  {
   "cell_type": "code",
   "execution_count": null,
   "id": "c2e26760-9d58-4141-a848-a47f8fe24f87",
   "metadata": {},
   "outputs": [],
   "source": [
    "#Issues to address\n",
    "#figure out optimal stride and text_length\n",
    "#"
   ]
  },
  {
   "cell_type": "code",
   "execution_count": 1,
   "id": "3312e772-7a60-4e07-b20d-0c67c79a44c0",
   "metadata": {},
   "outputs": [
    {
     "name": "stderr",
     "output_type": "stream",
     "text": [
      "C:\\Users\\Brady\\.vscode\\omnistudy-AI_Testing\\venv\\lib\\site-packages\\pinecone\\index.py:4: TqdmExperimentalWarning: Using `tqdm.autonotebook.tqdm` in notebook mode. Use `tqdm.tqdm` instead to force console mode (e.g. in jupyter console)\n",
      "  from tqdm.autonotebook import tqdm\n"
     ]
    }
   ],
   "source": [
    "import pinecone\n",
    "from tqdm import tqdm\n",
    "from dotenv import load_dotenv\n",
    "import os\n",
    "\n",
    "# Load environment variables from .env file\n",
    "#overide = true just forces a reload on the .env file in case api key changes\n",
    "load_dotenv(override=True)\n",
    "\n",
    "# Access the API key\n",
    "api_key = os.getenv(\"PINECONE_API_KEY\")\n"
   ]
  },
  {
   "cell_type": "code",
   "execution_count": 2,
   "id": "1266faff-c62b-4819-81ec-789946e899fb",
   "metadata": {},
   "outputs": [],
   "source": [
    "#Initialize the pinecone index\n",
    "import pinecone      \n",
    "\n",
    "pinecone.init(      \n",
    "\tapi_key=api_key,      \n",
    "\tenvironment='gcp-starter'      \n",
    ")      \n",
    "index = pinecone.Index('haystack')"
   ]
  },
  {
   "cell_type": "code",
   "execution_count": 3,
   "id": "2cf61bdd-f995-4044-a3a3-57988d90b245",
   "metadata": {},
   "outputs": [],
   "source": [
    "#load a pinecone document store object with the index defined previously\n",
    "from haystack.document_stores import PineconeDocumentStore\n",
    "\n",
    "document_store = PineconeDocumentStore(\n",
    "    api_key=api_key,\n",
    "    pinecone_index=index,\n",
    "    similarity=\"cosine\",\n",
    "    embedding_dim=768\n",
    ")"
   ]
  },
  {
   "cell_type": "code",
   "execution_count": 9,
   "id": "f970d59d-5e06-4f66-b1ee-727d3c0e7397",
   "metadata": {},
   "outputs": [
    {
     "name": "stdout",
     "output_type": "stream",
     "text": [
      "document\n",
      "768\n",
      "PineconeDocumentStore\n"
     ]
    }
   ],
   "source": [
    "print(document_store.index)\n",
    "print(document_store.embedding_dim)\n",
    "print(document_store.type)"
   ]
  },
  {
   "cell_type": "code",
   "execution_count": 5,
   "id": "811ae846-f33a-41c2-a25d-df59c56ce964",
   "metadata": {},
   "outputs": [
    {
     "name": "stdout",
     "output_type": "stream",
     "text": [
      "7897\n"
     ]
    }
   ],
   "source": [
    "#Textbook Extraction to make digestable for docu store\n",
    "from TextBookExctraction import Process_PDF\n",
    "#max_chunk_length is the max token length of each vector within the database\n",
    "#stride refers to the step taken to find the middle of each vector. \n",
    "#If stride is 2 and if max_length is 3, we move 2 steps forwards and each vector will contain 3 tokens with an overlap of 1\n",
    "# [1,2,3] , [3,4,5], [5,6,7], ... , [n-1,n,n+1]            with each array referring to a chunk/vector\n",
    "pdf_processor = Process_PDF(pdf_path=\"./Textbooks/CrackingTheCodingInterview.pdf\")\n",
    "text = pdf_processor.extract_text_from_pdf()\n",
    "cleaned_text = pdf_processor.preprocess_text(text)\n",
    "text_chunks = pdf_processor.segment_text(cleaned_text, max_chunk_length=500, stride=400)\n",
    "print(len(text_chunks))"
   ]
  },
  {
   "cell_type": "code",
   "execution_count": 6,
   "id": "f9b401fa-dcce-464a-b205-63ce8d20ad00",
   "metadata": {},
   "outputs": [
    {
     "name": "stderr",
     "output_type": "stream",
     "text": [
      "C:\\Users\\Brady\\.vscode\\omnistudy-AI_Testing\\venv\\lib\\site-packages\\torch\\_utils.py:831: UserWarning: TypedStorage is deprecated. It will be removed in the future and UntypedStorage will be the only storage class. This should only matter to you if you are using storages directly.  To access UntypedStorage directly, use tensor.untyped_storage() instead of tensor.storage()\n",
      "  return self.fget.__get__(instance, owner)()\n"
     ]
    }
   ],
   "source": [
    "import torch\n",
    "#Initialize retriever model\n",
    "from haystack.nodes import EmbeddingRetriever\n",
    "retriever = EmbeddingRetriever(\n",
    "    document_store=document_store,\n",
    "    embedding_model=\"flax-sentence-embeddings/all_datasets_v3_mpnet-base\",\n",
    "    model_format=\"sentence_transformers\"\n",
    ")\n"
   ]
  },
  {
   "cell_type": "code",
   "execution_count": 11,
   "id": "44d7d7b2-f1f4-4dcf-b076-935b913315bd",
   "metadata": {},
   "outputs": [
    {
     "data": {
      "application/vnd.jupyter.widget-view+json": {
       "model_id": "8849bec4e00b4ff387a1d860fd0f2a7a",
       "version_major": 2,
       "version_minor": 0
      },
      "text/plain": [
       "Batches:   0%|          | 0/8 [00:00<?, ?it/s]"
      ]
     },
     "metadata": {},
     "output_type": "display_data"
    },
    {
     "name": "stderr",
     "output_type": "stream",
     "text": [
      "Writing Documents: 100%|████████████████████████████████████████████████████████████| 256/256 [00:01<00:00, 177.57it/s]\n"
     ]
    },
    {
     "data": {
      "application/vnd.jupyter.widget-view+json": {
       "model_id": "ffde41a76a1f410292ba648f5a061096",
       "version_major": 2,
       "version_minor": 0
      },
      "text/plain": [
       "Batches:   0%|          | 0/8 [00:00<?, ?it/s]"
      ]
     },
     "metadata": {},
     "output_type": "display_data"
    },
    {
     "name": "stderr",
     "output_type": "stream",
     "text": [
      "Writing Documents: 100%|████████████████████████████████████████████████████████████| 256/256 [00:00<00:00, 336.79it/s]\n"
     ]
    },
    {
     "data": {
      "application/vnd.jupyter.widget-view+json": {
       "model_id": "4b14ec49037b4552a50e46715a0466d7",
       "version_major": 2,
       "version_minor": 0
      },
      "text/plain": [
       "Batches:   0%|          | 0/8 [00:00<?, ?it/s]"
      ]
     },
     "metadata": {},
     "output_type": "display_data"
    },
    {
     "name": "stderr",
     "output_type": "stream",
     "text": [
      "Writing Documents: 100%|████████████████████████████████████████████████████████████| 256/256 [00:00<00:00, 281.12it/s]\n"
     ]
    },
    {
     "data": {
      "application/vnd.jupyter.widget-view+json": {
       "model_id": "f1963c257ebc4591a71d167d94ac9f28",
       "version_major": 2,
       "version_minor": 0
      },
      "text/plain": [
       "Batches:   0%|          | 0/8 [00:00<?, ?it/s]"
      ]
     },
     "metadata": {},
     "output_type": "display_data"
    },
    {
     "name": "stderr",
     "output_type": "stream",
     "text": [
      "Writing Documents: 100%|████████████████████████████████████████████████████████████| 256/256 [00:00<00:00, 305.39it/s]\n"
     ]
    },
    {
     "data": {
      "application/vnd.jupyter.widget-view+json": {
       "model_id": "9f64ac2830fe497fac66a1bf2516c816",
       "version_major": 2,
       "version_minor": 0
      },
      "text/plain": [
       "Batches:   0%|          | 0/8 [00:00<?, ?it/s]"
      ]
     },
     "metadata": {},
     "output_type": "display_data"
    },
    {
     "name": "stderr",
     "output_type": "stream",
     "text": [
      "Writing Documents: 100%|████████████████████████████████████████████████████████████| 256/256 [00:00<00:00, 315.48it/s]\n"
     ]
    },
    {
     "data": {
      "application/vnd.jupyter.widget-view+json": {
       "model_id": "0470225110b6445d930b46f24462c3ce",
       "version_major": 2,
       "version_minor": 0
      },
      "text/plain": [
       "Batches:   0%|          | 0/8 [00:00<?, ?it/s]"
      ]
     },
     "metadata": {},
     "output_type": "display_data"
    },
    {
     "name": "stderr",
     "output_type": "stream",
     "text": [
      "Writing Documents: 100%|████████████████████████████████████████████████████████████| 256/256 [00:00<00:00, 305.35it/s]\n"
     ]
    },
    {
     "data": {
      "application/vnd.jupyter.widget-view+json": {
       "model_id": "c6734f99fa674d72bc979fe09c12d21f",
       "version_major": 2,
       "version_minor": 0
      },
      "text/plain": [
       "Batches:   0%|          | 0/8 [00:00<?, ?it/s]"
      ]
     },
     "metadata": {},
     "output_type": "display_data"
    },
    {
     "name": "stderr",
     "output_type": "stream",
     "text": [
      "Writing Documents: 100%|████████████████████████████████████████████████████████████| 256/256 [00:00<00:00, 329.32it/s]\n"
     ]
    },
    {
     "data": {
      "application/vnd.jupyter.widget-view+json": {
       "model_id": "e9061e208618497e8945672d427918cb",
       "version_major": 2,
       "version_minor": 0
      },
      "text/plain": [
       "Batches:   0%|          | 0/8 [00:00<?, ?it/s]"
      ]
     },
     "metadata": {},
     "output_type": "display_data"
    },
    {
     "name": "stderr",
     "output_type": "stream",
     "text": [
      "Writing Documents: 100%|████████████████████████████████████████████████████████████| 256/256 [00:00<00:00, 311.60it/s]\n"
     ]
    },
    {
     "data": {
      "application/vnd.jupyter.widget-view+json": {
       "model_id": "93544fe8317442fba84e4a6b25784c08",
       "version_major": 2,
       "version_minor": 0
      },
      "text/plain": [
       "Batches:   0%|          | 0/8 [00:00<?, ?it/s]"
      ]
     },
     "metadata": {},
     "output_type": "display_data"
    },
    {
     "name": "stderr",
     "output_type": "stream",
     "text": [
      "Writing Documents: 100%|████████████████████████████████████████████████████████████| 256/256 [00:00<00:00, 322.84it/s]\n"
     ]
    },
    {
     "data": {
      "application/vnd.jupyter.widget-view+json": {
       "model_id": "44b604dc93ba469585667ecb75924130",
       "version_major": 2,
       "version_minor": 0
      },
      "text/plain": [
       "Batches:   0%|          | 0/8 [00:00<?, ?it/s]"
      ]
     },
     "metadata": {},
     "output_type": "display_data"
    },
    {
     "name": "stderr",
     "output_type": "stream",
     "text": [
      "Writing Documents: 100%|████████████████████████████████████████████████████████████| 256/256 [00:00<00:00, 317.41it/s]\n"
     ]
    },
    {
     "data": {
      "application/vnd.jupyter.widget-view+json": {
       "model_id": "903a606af27e4a0894a2371da112eb22",
       "version_major": 2,
       "version_minor": 0
      },
      "text/plain": [
       "Batches:   0%|          | 0/8 [00:00<?, ?it/s]"
      ]
     },
     "metadata": {},
     "output_type": "display_data"
    },
    {
     "name": "stderr",
     "output_type": "stream",
     "text": [
      "Writing Documents: 100%|████████████████████████████████████████████████████████████| 256/256 [00:00<00:00, 317.02it/s]\n"
     ]
    },
    {
     "data": {
      "application/vnd.jupyter.widget-view+json": {
       "model_id": "1af31687e6124014a04c5fc111788d03",
       "version_major": 2,
       "version_minor": 0
      },
      "text/plain": [
       "Batches:   0%|          | 0/8 [00:00<?, ?it/s]"
      ]
     },
     "metadata": {},
     "output_type": "display_data"
    },
    {
     "name": "stderr",
     "output_type": "stream",
     "text": [
      "Writing Documents: 100%|████████████████████████████████████████████████████████████| 256/256 [00:00<00:00, 303.46it/s]\n"
     ]
    },
    {
     "data": {
      "application/vnd.jupyter.widget-view+json": {
       "model_id": "440b3ef868e9435ba02ddfa8f0450efd",
       "version_major": 2,
       "version_minor": 0
      },
      "text/plain": [
       "Batches:   0%|          | 0/8 [00:00<?, ?it/s]"
      ]
     },
     "metadata": {},
     "output_type": "display_data"
    },
    {
     "name": "stderr",
     "output_type": "stream",
     "text": [
      "Writing Documents: 100%|████████████████████████████████████████████████████████████| 256/256 [00:00<00:00, 309.88it/s]\n"
     ]
    },
    {
     "data": {
      "application/vnd.jupyter.widget-view+json": {
       "model_id": "1280e5abf58747a4b39b0cb3141c5f17",
       "version_major": 2,
       "version_minor": 0
      },
      "text/plain": [
       "Batches:   0%|          | 0/8 [00:00<?, ?it/s]"
      ]
     },
     "metadata": {},
     "output_type": "display_data"
    },
    {
     "name": "stderr",
     "output_type": "stream",
     "text": [
      "Writing Documents: 100%|████████████████████████████████████████████████████████████| 256/256 [00:00<00:00, 326.18it/s]\n"
     ]
    },
    {
     "data": {
      "application/vnd.jupyter.widget-view+json": {
       "model_id": "82ea86aa9cdd428196d02cca34a3e626",
       "version_major": 2,
       "version_minor": 0
      },
      "text/plain": [
       "Batches:   0%|          | 0/8 [00:00<?, ?it/s]"
      ]
     },
     "metadata": {},
     "output_type": "display_data"
    },
    {
     "name": "stderr",
     "output_type": "stream",
     "text": [
      "Writing Documents: 100%|████████████████████████████████████████████████████████████| 256/256 [00:00<00:00, 370.52it/s]\n"
     ]
    },
    {
     "data": {
      "application/vnd.jupyter.widget-view+json": {
       "model_id": "ba4704babb9d44ee9eb467f756f270d6",
       "version_major": 2,
       "version_minor": 0
      },
      "text/plain": [
       "Batches:   0%|          | 0/8 [00:00<?, ?it/s]"
      ]
     },
     "metadata": {},
     "output_type": "display_data"
    },
    {
     "name": "stderr",
     "output_type": "stream",
     "text": [
      "Writing Documents: 100%|████████████████████████████████████████████████████████████| 256/256 [00:00<00:00, 361.62it/s]\n"
     ]
    },
    {
     "data": {
      "application/vnd.jupyter.widget-view+json": {
       "model_id": "2b22d1b2f9644c40b44f00362125d983",
       "version_major": 2,
       "version_minor": 0
      },
      "text/plain": [
       "Batches:   0%|          | 0/8 [00:00<?, ?it/s]"
      ]
     },
     "metadata": {},
     "output_type": "display_data"
    },
    {
     "name": "stderr",
     "output_type": "stream",
     "text": [
      "Writing Documents: 100%|████████████████████████████████████████████████████████████| 256/256 [00:00<00:00, 325.58it/s]\n"
     ]
    },
    {
     "data": {
      "application/vnd.jupyter.widget-view+json": {
       "model_id": "010f3e8a6534442190a2d1c63fdafb49",
       "version_major": 2,
       "version_minor": 0
      },
      "text/plain": [
       "Batches:   0%|          | 0/8 [00:00<?, ?it/s]"
      ]
     },
     "metadata": {},
     "output_type": "display_data"
    },
    {
     "name": "stderr",
     "output_type": "stream",
     "text": [
      "Writing Documents: 100%|████████████████████████████████████████████████████████████| 256/256 [00:00<00:00, 319.87it/s]\n"
     ]
    },
    {
     "data": {
      "application/vnd.jupyter.widget-view+json": {
       "model_id": "b760d2ca81e44543b6891d008b6f5660",
       "version_major": 2,
       "version_minor": 0
      },
      "text/plain": [
       "Batches:   0%|          | 0/8 [00:00<?, ?it/s]"
      ]
     },
     "metadata": {},
     "output_type": "display_data"
    },
    {
     "name": "stderr",
     "output_type": "stream",
     "text": [
      "Writing Documents: 100%|████████████████████████████████████████████████████████████| 256/256 [00:00<00:00, 305.64it/s]\n"
     ]
    },
    {
     "data": {
      "application/vnd.jupyter.widget-view+json": {
       "model_id": "5bab813af7b14928a6ac2c0c4d8d9687",
       "version_major": 2,
       "version_minor": 0
      },
      "text/plain": [
       "Batches:   0%|          | 0/8 [00:00<?, ?it/s]"
      ]
     },
     "metadata": {},
     "output_type": "display_data"
    },
    {
     "name": "stderr",
     "output_type": "stream",
     "text": [
      "Writing Documents: 100%|████████████████████████████████████████████████████████████| 256/256 [00:00<00:00, 327.68it/s]\n"
     ]
    },
    {
     "data": {
      "application/vnd.jupyter.widget-view+json": {
       "model_id": "8e3ab33d3bda4f1aabff4f32fc372caa",
       "version_major": 2,
       "version_minor": 0
      },
      "text/plain": [
       "Batches:   0%|          | 0/8 [00:00<?, ?it/s]"
      ]
     },
     "metadata": {},
     "output_type": "display_data"
    },
    {
     "name": "stderr",
     "output_type": "stream",
     "text": [
      "Writing Documents: 100%|████████████████████████████████████████████████████████████| 256/256 [00:00<00:00, 333.80it/s]\n"
     ]
    },
    {
     "data": {
      "application/vnd.jupyter.widget-view+json": {
       "model_id": "d533796f79704e7e97895fbd48433e03",
       "version_major": 2,
       "version_minor": 0
      },
      "text/plain": [
       "Batches:   0%|          | 0/8 [00:00<?, ?it/s]"
      ]
     },
     "metadata": {},
     "output_type": "display_data"
    },
    {
     "name": "stderr",
     "output_type": "stream",
     "text": [
      "Writing Documents: 100%|████████████████████████████████████████████████████████████| 256/256 [00:00<00:00, 320.33it/s]\n"
     ]
    },
    {
     "data": {
      "application/vnd.jupyter.widget-view+json": {
       "model_id": "f15bd7f6708741cb89ceaa9c3e5e458a",
       "version_major": 2,
       "version_minor": 0
      },
      "text/plain": [
       "Batches:   0%|          | 0/8 [00:00<?, ?it/s]"
      ]
     },
     "metadata": {},
     "output_type": "display_data"
    },
    {
     "name": "stderr",
     "output_type": "stream",
     "text": [
      "Writing Documents: 100%|████████████████████████████████████████████████████████████| 256/256 [00:00<00:00, 313.92it/s]\n"
     ]
    },
    {
     "data": {
      "application/vnd.jupyter.widget-view+json": {
       "model_id": "c3e6837fb1a443f48fdf5f551339cd09",
       "version_major": 2,
       "version_minor": 0
      },
      "text/plain": [
       "Batches:   0%|          | 0/8 [00:00<?, ?it/s]"
      ]
     },
     "metadata": {},
     "output_type": "display_data"
    },
    {
     "name": "stderr",
     "output_type": "stream",
     "text": [
      "Writing Documents: 100%|████████████████████████████████████████████████████████████| 256/256 [00:00<00:00, 339.89it/s]\n"
     ]
    },
    {
     "data": {
      "application/vnd.jupyter.widget-view+json": {
       "model_id": "bda5822aea8846eca44cc22db8c7efb0",
       "version_major": 2,
       "version_minor": 0
      },
      "text/plain": [
       "Batches:   0%|          | 0/8 [00:00<?, ?it/s]"
      ]
     },
     "metadata": {},
     "output_type": "display_data"
    },
    {
     "name": "stderr",
     "output_type": "stream",
     "text": [
      "Writing Documents: 100%|████████████████████████████████████████████████████████████| 256/256 [00:00<00:00, 326.77it/s]\n"
     ]
    },
    {
     "data": {
      "application/vnd.jupyter.widget-view+json": {
       "model_id": "6062fd49f7dd4961ac076efd50662bf4",
       "version_major": 2,
       "version_minor": 0
      },
      "text/plain": [
       "Batches:   0%|          | 0/8 [00:00<?, ?it/s]"
      ]
     },
     "metadata": {},
     "output_type": "display_data"
    },
    {
     "name": "stderr",
     "output_type": "stream",
     "text": [
      "Writing Documents: 100%|████████████████████████████████████████████████████████████| 256/256 [00:00<00:00, 358.92it/s]\n"
     ]
    },
    {
     "data": {
      "application/vnd.jupyter.widget-view+json": {
       "model_id": "cf9c0a2dd427400ba115c2f6995c7f32",
       "version_major": 2,
       "version_minor": 0
      },
      "text/plain": [
       "Batches:   0%|          | 0/8 [00:00<?, ?it/s]"
      ]
     },
     "metadata": {},
     "output_type": "display_data"
    },
    {
     "name": "stderr",
     "output_type": "stream",
     "text": [
      "Writing Documents: 100%|████████████████████████████████████████████████████████████| 256/256 [00:00<00:00, 361.55it/s]\n"
     ]
    },
    {
     "data": {
      "application/vnd.jupyter.widget-view+json": {
       "model_id": "471b108d0424418ea6f58621e39252f6",
       "version_major": 2,
       "version_minor": 0
      },
      "text/plain": [
       "Batches:   0%|          | 0/8 [00:00<?, ?it/s]"
      ]
     },
     "metadata": {},
     "output_type": "display_data"
    },
    {
     "name": "stderr",
     "output_type": "stream",
     "text": [
      "Writing Documents: 100%|████████████████████████████████████████████████████████████| 256/256 [00:00<00:00, 353.94it/s]\n"
     ]
    },
    {
     "data": {
      "application/vnd.jupyter.widget-view+json": {
       "model_id": "3088b104e5de4259b6a45e61d8889064",
       "version_major": 2,
       "version_minor": 0
      },
      "text/plain": [
       "Batches:   0%|          | 0/8 [00:00<?, ?it/s]"
      ]
     },
     "metadata": {},
     "output_type": "display_data"
    },
    {
     "name": "stderr",
     "output_type": "stream",
     "text": [
      "Writing Documents: 100%|████████████████████████████████████████████████████████████| 256/256 [00:00<00:00, 333.79it/s]\n"
     ]
    },
    {
     "data": {
      "application/vnd.jupyter.widget-view+json": {
       "model_id": "07641ec550064a0597ebb9a3d31fff3a",
       "version_major": 2,
       "version_minor": 0
      },
      "text/plain": [
       "Batches:   0%|          | 0/8 [00:00<?, ?it/s]"
      ]
     },
     "metadata": {},
     "output_type": "display_data"
    },
    {
     "name": "stderr",
     "output_type": "stream",
     "text": [
      "Writing Documents: 100%|████████████████████████████████████████████████████████████| 256/256 [00:00<00:00, 332.99it/s]\n"
     ]
    },
    {
     "data": {
      "application/vnd.jupyter.widget-view+json": {
       "model_id": "2fe8a1d0a7514e5d80f59c04a8f0ee17",
       "version_major": 2,
       "version_minor": 0
      },
      "text/plain": [
       "Batches:   0%|          | 0/7 [00:00<?, ?it/s]"
      ]
     },
     "metadata": {},
     "output_type": "display_data"
    },
    {
     "name": "stderr",
     "output_type": "stream",
     "text": [
      "Writing Documents: 256it [00:00, 379.14it/s]                                                                           \n"
     ]
    }
   ],
   "source": [
    "from haystack import Document\n",
    "\n",
    "batch_size = 256\n",
    "total_doc_count = len(text_chunks)\n",
    "\n",
    "counter = 0\n",
    "docs = []\n",
    "for d in text_chunks:\n",
    "    doc = Document(\n",
    "        content = d\n",
    "    )\n",
    "    docs.append(doc)\n",
    "    counter += 1\n",
    "    if counter % batch_size == 0 or counter == total_doc_count:\n",
    "        embeds = retriever.embed_documents(docs)\n",
    "        for i, doc in enumerate(docs):\n",
    "            doc.embedding = embeds[i]\n",
    "        document_store.write_documents(docs)\n",
    "        docs.clear()\n",
    "    if counter == total_doc_count:\n",
    "        break\n"
   ]
  },
  {
   "cell_type": "code",
   "execution_count": 14,
   "id": "58d9bdc8-c6e1-4b0e-8391-7c04b7249b62",
   "metadata": {},
   "outputs": [
    {
     "data": {
      "application/vnd.jupyter.widget-view+json": {
       "model_id": "e71435c4d4074d27892470601fcaa5e0",
       "version_major": 2,
       "version_minor": 0
      },
      "text/plain": [
       "Batches:   0%|          | 0/1 [00:00<?, ?it/s]"
      ]
     },
     "metadata": {},
     "output_type": "display_data"
    },
    {
     "name": "stdout",
     "output_type": "stream",
     "text": [
      "\n",
      "Query: what happens during a coding interview?\n",
      "\n",
      "{   'content': '(and many other companies). algorithm and coding problems form '\n",
      "               'the \\n'\n",
      "               'largest component of the interview process. Think of these as '\n",
      "               'problem-solving questions. The interviewer \\n'\n",
      "               'is looking to evaluate your ability to solve algorithmic '\n",
      "               \"problems you haven't seen before. \\n\"\n",
      "               'Very often, you might get through only one question in an '\n",
      "               'interview. Forty-five minutes is not a long time, \\n'\n",
      "               \"and it's difficult to get through several different questions \"\n",
      "               'in that time frame. \\n'\n",
      "               'You should do your best to talk out loud t',\n",
      "    'name': None}\n",
      "\n",
      "{   'content': \"s to explore what areas of technology you're familiar with. \\n\"\n",
      "               \"Next, you fly to Seattle (or whichever office you're \"\n",
      "               'interviewing for) for four or five interviews with one or \\n'\n",
      "               'two teams that have selected you based on your resume and '\n",
      "               'phone interviews. You will have to code on a \\n'\n",
      "               'whiteboard, and some interviewers will stress other skills. '\n",
      "               'Interviewers are each assigned a specific area to \\n'\n",
      "               'probe and may seem very different from each other. They cannot '\n",
      "               'see the other feedback until they have \\n'\n",
      "               'submitted',\n",
      "    'name': None}\n",
      "\n"
     ]
    }
   ],
   "source": [
    "#example usage of retriever\n",
    "from haystack.pipelines import DocumentSearchPipeline\n",
    "from haystack.utils import print_documents\n",
    "\n",
    "search_pipe = DocumentSearchPipeline(retriever)\n",
    "result = search_pipe.run(\n",
    "    query=\"what happens during a coding interview?\",\n",
    "    params={\"Retriever\": {\"top_k\": 2}}\n",
    ")\n",
    "\n",
    "print_documents(result)"
   ]
  },
  {
   "cell_type": "code",
   "execution_count": 63,
   "id": "38dda222-c877-43f7-af3b-d73debe79aac",
   "metadata": {},
   "outputs": [],
   "source": [
    "from haystack.nodes import PromptNode, PromptTemplate, AnswerParser\n",
    "\n",
    "rag_prompt = PromptTemplate(\n",
    "    prompt=\"\"\"Synthesize a comprehensive answer from the following text for the given question.\n",
    "                             Provide a clear and concise response that summarizes the key points and information presented in the text.\n",
    "                             Your answer should be in your own words and be no longer than 50 words.\n",
    "                             \\n\\n Related text: {join(documents)} \\n\\n Question: {query} \\n\\n Answer:\"\"\",\n",
    "    output_parser=AnswerParser(),\n",
    ")\n",
    "\n",
    "prompt_node = PromptNode(model_name_or_path=\"vblagoje/bart_lfqa\", default_prompt_template=rag_prompt)\n"
   ]
  },
  {
   "cell_type": "code",
   "execution_count": 69,
   "id": "28b2fb9f-22b1-4d97-bc90-a87f2aaba1e7",
   "metadata": {},
   "outputs": [],
   "source": [
    "from haystack.pipelines import Pipeline\n",
    "pipeline = Pipeline()\n",
    "\n",
    "pipeline.add_node(component=retriever, name=\"retriever\", inputs=[\"Query\"])\n",
    "pipeline.add_node(component=prompt_node, name=\"prompt_node\", inputs=[\"retriever\"])\n",
    "\n",
    "# result = pipeline.run(query=\"what happens during a coding interview?\")\n"
   ]
  },
  {
   "cell_type": "code",
   "execution_count": 70,
   "id": "7f2fddc7-91bf-47fb-bc08-68f881c1a840",
   "metadata": {},
   "outputs": [
    {
     "data": {
      "application/vnd.jupyter.widget-view+json": {
       "model_id": "9a33cf4779534188ae4395f58e8fdbd9",
       "version_major": 2,
       "version_minor": 0
      },
      "text/plain": [
       "Batches:   0%|          | 0/1 [00:00<?, ?it/s]"
      ]
     },
     "metadata": {},
     "output_type": "display_data"
    },
    {
     "name": "stderr",
     "output_type": "stream",
     "text": [
      "Token indices sequence length is longer than the specified maximum sequence length for this model (1303 > 1024). Running this sequence through the model will result in indexing errors\n",
      "The prompt has been truncated from 1303 tokens to 924 tokens so that the prompt length and answer length (100 tokens) fit within the max token limit (1024 tokens). Shorten the prompt to prevent it from being cut off\n"
     ]
    },
    {
     "name": "stdout",
     "output_type": "stream",
     "text": [
      "{'answers': [<Answer {'answer': \"I'm a software engineer. I'm not sure if this is the right place to ask this, but I'll give it a shot. I'm not sure if this is the right place to ask this, but I'll give it a shot. I'm a software engineer. I'm a software engineer. I'm a software engineer. I'm a software engineer. I'm a software engineer. I'm a software engineer. I'm a software engineer. I'm a software engineer.\", 'type': 'generative', 'score': None, 'context': None, 'offsets_in_document': None, 'offsets_in_context': None, 'document_ids': ['3a4a4200b73a0aab07f1c7cbd9caa735', 'd6335099aa506c5c6556ad120d71bda7', 'ef538cb8f7600ec9389b8e4257182ec7', '63e845fc453e406698cb3748c1adc8dd', '66dc5042a398f073352886020361d0f3', '2ba63f7121713711c084f0b0b1daaaa', '9d768da7a47a48a6476247d592056616', '5240ee47f4c7b159c340266116528e08', '9bedc26b6b4bedb7bfe14f0fdbc5f0cc', '385cbae114f8e72634ae2cb0b581c7d0'], 'meta': {'prompt': 'Synthesize a comprehensive answer from the following text for the given question.\\n                             Provide a clear and concise response that summarizes the key points and information presented in the text.\\n                             Your answer should be in your own words and be no longer than 50 words.\\n                             \\n\\n Related text: (and many other companies). algorithm and coding problems form the \\nlargest component of the interview process. Think of these as problem-solving questions. The interviewer \\nis looking to evaluate your ability to solve algorithmic problems you haven\\'t seen before. \\nVery often, you might get through only one question in an interview. Forty-five minutes is not a long time, \\nand it\\'s difficult to get through several different questions in that time frame. \\nYou should do your best to talk out loud t s to explore what areas of technology you\\'re familiar with. \\nNext, you fly to Seattle (or whichever office you\\'re interviewing for) for four or five interviews with one or \\ntwo teams that have selected you based on your resume and phone interviews. You will have to code on a \\nwhiteboard, and some interviewers will stress other skills. Interviewers are each assigned a specific area to \\nprobe and may seem very different from each other. They cannot see the other feedback until they have \\nsubmitted line document editor. \\nAfter the phone interview(s), you might be asked to do a homework assignment that will include a mix of \\ncoding and algorithms. Pay attention to your coding style here. If you\\'ve never worked in an environment \\nwhich had thorough code reviews, it may be a good idea to get someone who has to review your code. \\nDuring your on-site interview, you will interview primarily with other software engineers, but hiring \\nmanagers are also involved whenever they are available. All int on, a candidate may only do one phone screen. \\nThe engineer who interviews you will usually ask you to write simple code via a shared document editor. \\nThey will also often ask a broad set of questions to explore what areas of technology you\\'re familiar with. \\nNext, you fly to Seattle (or whichever office you\\'re interviewing for) for four or five interviews with one or \\ntwo teams that have selected you based on your resume and phone interviews. You will have to code on a \\nwhiteboard, and some in the ground running, they are likely to assess your \\nskills with specific programming languages. If you know a language that the startup works with, make \\nsure to brush up on the details. \\nExperience: Startups are likely to ask you a lot of questions about your experience. Pay special attention \\nto the Behavioral Questions section. \\nIn addition to the above areas, the coding and algorithms questions that you see in this book are also very \\ncommon. \\n18 \\nCracking the Coding Interview, 6th Edition \\n  greeted by the recruiter who provides an overview of the \\nprocess. You will then have 6-8 interviews with members of the team with which you\\'re interviewing, as well \\nas key people with whom your team works. \\nCrackingTheCodinglnterview.com j 6th Edition \\n11 \\n11 I Behind the Scenes \\nYou can expect a mix of one-on-one and two-on-one interviews. Be ready to code on a whiteboard and \\nmake sure all of your thoughts are clearly communicated. Lunch is with your potential future manager and \\nappears mo blems. \\nMy Approach \\nThe focus of Cracking the Coding Interview is algorithm, coding, and design questions. Why? Because \\nwhile you can and will be asked behavioral questions, the answers will be as varied as your resume. Like\\xad\\nwise, while many firms will ask so-called \"trivia\" questions (e.g., \"What is a virtual function?\"), the skills devel\\xad\\noped through practicing these questions are limited to very specific bits of knowledge'}}>], 'invocation_context': {'query': 'What happens during a coding interview?', 'documents': [<Document: {'content': \"(and many other companies). algorithm and coding problems form the \\nlargest component of the interview process. Think of these as problem-solving questions. The interviewer \\nis looking to evaluate your ability to solve algorithmic problems you haven't seen before. \\nVery often, you might get through only one question in an interview. Forty-five minutes is not a long time, \\nand it's difficult to get through several different questions in that time frame. \\nYou should do your best to talk out loud t\", 'content_type': 'text', 'score': 0.8446781335, 'meta': {'doc_type': 'vector'}, 'id_hash_keys': ['content'], 'embedding': None, 'id': '3a4a4200b73a0aab07f1c7cbd9caa735'}>, <Document: {'content': \"s to explore what areas of technology you're familiar with. \\nNext, you fly to Seattle (or whichever office you're interviewing for) for four or five interviews with one or \\ntwo teams that have selected you based on your resume and phone interviews. You will have to code on a \\nwhiteboard, and some interviewers will stress other skills. Interviewers are each assigned a specific area to \\nprobe and may seem very different from each other. They cannot see the other feedback until they have \\nsubmitted\", 'content_type': 'text', 'score': 0.839912981, 'meta': {'doc_type': 'vector'}, 'id_hash_keys': ['content'], 'embedding': None, 'id': 'd6335099aa506c5c6556ad120d71bda7'}>, <Document: {'content': \"line document editor. \\nAfter the phone interview(s), you might be asked to do a homework assignment that will include a mix of \\ncoding and algorithms. Pay attention to your coding style here. If you've never worked in an environment \\nwhich had thorough code reviews, it may be a good idea to get someone who has to review your code. \\nDuring your on-site interview, you will interview primarily with other software engineers, but hiring \\nmanagers are also involved whenever they are available. All int\", 'content_type': 'text', 'score': 0.8380204735, 'meta': {'doc_type': 'vector'}, 'id_hash_keys': ['content'], 'embedding': None, 'id': 'ef538cb8f7600ec9389b8e4257182ec7'}>, <Document: {'content': \"on, a candidate may only do one phone screen. \\nThe engineer who interviews you will usually ask you to write simple code via a shared document editor. \\nThey will also often ask a broad set of questions to explore what areas of technology you're familiar with. \\nNext, you fly to Seattle (or whichever office you're interviewing for) for four or five interviews with one or \\ntwo teams that have selected you based on your resume and phone interviews. You will have to code on a \\nwhiteboard, and some in\", 'content_type': 'text', 'score': 0.8343574405, 'meta': {'doc_type': 'vector'}, 'id_hash_keys': ['content'], 'embedding': None, 'id': '63e845fc453e406698cb3748c1adc8dd'}>, <Document: {'content': 'the ground running, they are likely to assess your \\nskills with specific programming languages. If you know a language that the startup works with, make \\nsure to brush up on the details. \\nExperience: Startups are likely to ask you a lot of questions about your experience. Pay special attention \\nto the Behavioral Questions section. \\nIn addition to the above areas, the coding and algorithms questions that you see in this book are also very \\ncommon. \\n18 \\nCracking the Coding Interview, 6th Edition \\n', 'content_type': 'text', 'score': 0.8342523575, 'meta': {'doc_type': 'vector'}, 'id_hash_keys': ['content'], 'embedding': None, 'id': '66dc5042a398f073352886020361d0f3'}>, <Document: {'content': \" greeted by the recruiter who provides an overview of the \\nprocess. You will then have 6-8 interviews with members of the team with which you're interviewing, as well \\nas key people with whom your team works. \\nCrackingTheCodinglnterview.com j 6th Edition \\n11 \\n11 I Behind the Scenes \\nYou can expect a mix of one-on-one and two-on-one interviews. Be ready to code on a whiteboard and \\nmake sure all of your thoughts are clearly communicated. Lunch is with your potential future manager and \\nappears mo\", 'content_type': 'text', 'score': 0.8331483900000001, 'meta': {'doc_type': 'vector'}, 'id_hash_keys': ['content'], 'embedding': None, 'id': '2ba63f7121713711c084f0b0b1daaaa'}>, <Document: {'content': 'blems. \\nMy Approach \\nThe focus of Cracking the Coding Interview is algorithm, coding, and design questions. Why? Because \\nwhile you can and will be asked behavioral questions, the answers will be as varied as your resume. Like\\xad\\nwise, while many firms will ask so-called \"trivia\" questions (e.g., \"What is a virtual function?\"), the skills devel\\xad\\noped through practicing these questions are limited to very specific bits of knowledge. The book will briefly \\ntouch on some of these questions to show yo', 'content_type': 'text', 'score': 0.8310033084999999, 'meta': {'doc_type': 'vector'}, 'id_hash_keys': ['content'], 'embedding': None, 'id': '9d768da7a47a48a6476247d592056616'}>, <Document: {'content': \"tion, and quick debugging. Coding on paper does not. Get used to this-and to how slow it is to write\\nand edit code-by coding on paper.\\n3. Test your code-on paper. This means testing the general cases, base cases, error cases, and so on. You'll\\nneed to do this during your interview, so it's best to practice this in advance.\\n4. Type your paper code as-is into a computer. You will probably make a bunch of mistakes. Start a list of all\\nthe errors you make so that you can keep these in mind during th\", 'content_type': 'text', 'score': 0.8264506755000001, 'meta': {'doc_type': 'vector'}, 'id_hash_keys': ['content'], 'embedding': None, 'id': '5240ee47f4c7b159c340266116528e08'}>, <Document: {'content': \"nd learn their patterns. It's about developing a fresh algorithm, not memorizing existing \\nproblems. \\nCracking the Coding Interview is the result of my first-hand experience interviewing at top companies and \\nlater coaching candidates through these interviews. It is the result of hundreds of conversations with candi\\xad\\ndates. It is the result of the thousands of questions contributed by candidates and interviewers. And it's the \\nresult of seeing so many interview questions from so many firms. Encl\", 'content_type': 'text', 'score': 0.8232085405, 'meta': {'doc_type': 'vector'}, 'id_hash_keys': ['content'], 'embedding': None, 'id': '9bedc26b6b4bedb7bfe14f0fdbc5f0cc'}>, <Document: {'content': 'ical interview. \\nMany companies have taken advantage of online synchronized document editors, but others will expect \\nyou to write code on paper and read it back over the phone. Some interviewers may even give you \"home\\xad\\nwork\"to solve after you hang up the phone or just ask you to email them the code you wrote. \\nYou typically do one or two screening interviewers before being brought on-site. \\nIn an on-site interview round, you usually have 3 to 6 in-person interviews. One of these is often over ', 'content_type': 'text', 'score': 0.818830073, 'meta': {'doc_type': 'vector'}, 'id_hash_keys': ['content'], 'embedding': None, 'id': '385cbae114f8e72634ae2cb0b581c7d0'}>], 'answers': [<Answer {'answer': \"I'm a software engineer. I'm not sure if this is the right place to ask this, but I'll give it a shot. I'm not sure if this is the right place to ask this, but I'll give it a shot. I'm a software engineer. I'm a software engineer. I'm a software engineer. I'm a software engineer. I'm a software engineer. I'm a software engineer. I'm a software engineer. I'm a software engineer.\", 'type': 'generative', 'score': None, 'context': None, 'offsets_in_document': None, 'offsets_in_context': None, 'document_ids': ['3a4a4200b73a0aab07f1c7cbd9caa735', 'd6335099aa506c5c6556ad120d71bda7', 'ef538cb8f7600ec9389b8e4257182ec7', '63e845fc453e406698cb3748c1adc8dd', '66dc5042a398f073352886020361d0f3', '2ba63f7121713711c084f0b0b1daaaa', '9d768da7a47a48a6476247d592056616', '5240ee47f4c7b159c340266116528e08', '9bedc26b6b4bedb7bfe14f0fdbc5f0cc', '385cbae114f8e72634ae2cb0b581c7d0'], 'meta': {'prompt': 'Synthesize a comprehensive answer from the following text for the given question.\\n                             Provide a clear and concise response that summarizes the key points and information presented in the text.\\n                             Your answer should be in your own words and be no longer than 50 words.\\n                             \\n\\n Related text: (and many other companies). algorithm and coding problems form the \\nlargest component of the interview process. Think of these as problem-solving questions. The interviewer \\nis looking to evaluate your ability to solve algorithmic problems you haven\\'t seen before. \\nVery often, you might get through only one question in an interview. Forty-five minutes is not a long time, \\nand it\\'s difficult to get through several different questions in that time frame. \\nYou should do your best to talk out loud t s to explore what areas of technology you\\'re familiar with. \\nNext, you fly to Seattle (or whichever office you\\'re interviewing for) for four or five interviews with one or \\ntwo teams that have selected you based on your resume and phone interviews. You will have to code on a \\nwhiteboard, and some interviewers will stress other skills. Interviewers are each assigned a specific area to \\nprobe and may seem very different from each other. They cannot see the other feedback until they have \\nsubmitted line document editor. \\nAfter the phone interview(s), you might be asked to do a homework assignment that will include a mix of \\ncoding and algorithms. Pay attention to your coding style here. If you\\'ve never worked in an environment \\nwhich had thorough code reviews, it may be a good idea to get someone who has to review your code. \\nDuring your on-site interview, you will interview primarily with other software engineers, but hiring \\nmanagers are also involved whenever they are available. All int on, a candidate may only do one phone screen. \\nThe engineer who interviews you will usually ask you to write simple code via a shared document editor. \\nThey will also often ask a broad set of questions to explore what areas of technology you\\'re familiar with. \\nNext, you fly to Seattle (or whichever office you\\'re interviewing for) for four or five interviews with one or \\ntwo teams that have selected you based on your resume and phone interviews. You will have to code on a \\nwhiteboard, and some in the ground running, they are likely to assess your \\nskills with specific programming languages. If you know a language that the startup works with, make \\nsure to brush up on the details. \\nExperience: Startups are likely to ask you a lot of questions about your experience. Pay special attention \\nto the Behavioral Questions section. \\nIn addition to the above areas, the coding and algorithms questions that you see in this book are also very \\ncommon. \\n18 \\nCracking the Coding Interview, 6th Edition \\n  greeted by the recruiter who provides an overview of the \\nprocess. You will then have 6-8 interviews with members of the team with which you\\'re interviewing, as well \\nas key people with whom your team works. \\nCrackingTheCodinglnterview.com j 6th Edition \\n11 \\n11 I Behind the Scenes \\nYou can expect a mix of one-on-one and two-on-one interviews. Be ready to code on a whiteboard and \\nmake sure all of your thoughts are clearly communicated. Lunch is with your potential future manager and \\nappears mo blems. \\nMy Approach \\nThe focus of Cracking the Coding Interview is algorithm, coding, and design questions. Why? Because \\nwhile you can and will be asked behavioral questions, the answers will be as varied as your resume. Like\\xad\\nwise, while many firms will ask so-called \"trivia\" questions (e.g., \"What is a virtual function?\"), the skills devel\\xad\\noped through practicing these questions are limited to very specific bits of knowledge'}}>], 'prompts': ['Synthesize a comprehensive answer from the following text for the given question.\\n                             Provide a clear and concise response that summarizes the key points and information presented in the text.\\n                             Your answer should be in your own words and be no longer than 50 words.\\n                             \\n\\n Related text: (and many other companies). algorithm and coding problems form the \\nlargest component of the interview process. Think of these as problem-solving questions. The interviewer \\nis looking to evaluate your ability to solve algorithmic problems you haven\\'t seen before. \\nVery often, you might get through only one question in an interview. Forty-five minutes is not a long time, \\nand it\\'s difficult to get through several different questions in that time frame. \\nYou should do your best to talk out loud t s to explore what areas of technology you\\'re familiar with. \\nNext, you fly to Seattle (or whichever office you\\'re interviewing for) for four or five interviews with one or \\ntwo teams that have selected you based on your resume and phone interviews. You will have to code on a \\nwhiteboard, and some interviewers will stress other skills. Interviewers are each assigned a specific area to \\nprobe and may seem very different from each other. They cannot see the other feedback until they have \\nsubmitted line document editor. \\nAfter the phone interview(s), you might be asked to do a homework assignment that will include a mix of \\ncoding and algorithms. Pay attention to your coding style here. If you\\'ve never worked in an environment \\nwhich had thorough code reviews, it may be a good idea to get someone who has to review your code. \\nDuring your on-site interview, you will interview primarily with other software engineers, but hiring \\nmanagers are also involved whenever they are available. All int on, a candidate may only do one phone screen. \\nThe engineer who interviews you will usually ask you to write simple code via a shared document editor. \\nThey will also often ask a broad set of questions to explore what areas of technology you\\'re familiar with. \\nNext, you fly to Seattle (or whichever office you\\'re interviewing for) for four or five interviews with one or \\ntwo teams that have selected you based on your resume and phone interviews. You will have to code on a \\nwhiteboard, and some in the ground running, they are likely to assess your \\nskills with specific programming languages. If you know a language that the startup works with, make \\nsure to brush up on the details. \\nExperience: Startups are likely to ask you a lot of questions about your experience. Pay special attention \\nto the Behavioral Questions section. \\nIn addition to the above areas, the coding and algorithms questions that you see in this book are also very \\ncommon. \\n18 \\nCracking the Coding Interview, 6th Edition \\n  greeted by the recruiter who provides an overview of the \\nprocess. You will then have 6-8 interviews with members of the team with which you\\'re interviewing, as well \\nas key people with whom your team works. \\nCrackingTheCodinglnterview.com j 6th Edition \\n11 \\n11 I Behind the Scenes \\nYou can expect a mix of one-on-one and two-on-one interviews. Be ready to code on a whiteboard and \\nmake sure all of your thoughts are clearly communicated. Lunch is with your potential future manager and \\nappears mo blems. \\nMy Approach \\nThe focus of Cracking the Coding Interview is algorithm, coding, and design questions. Why? Because \\nwhile you can and will be asked behavioral questions, the answers will be as varied as your resume. Like\\xad\\nwise, while many firms will ask so-called \"trivia\" questions (e.g., \"What is a virtual function?\"), the skills devel\\xad\\noped through practicing these questions are limited to very specific bits of knowledge']}, 'documents': [<Document: {'content': \"(and many other companies). algorithm and coding problems form the \\nlargest component of the interview process. Think of these as problem-solving questions. The interviewer \\nis looking to evaluate your ability to solve algorithmic problems you haven't seen before. \\nVery often, you might get through only one question in an interview. Forty-five minutes is not a long time, \\nand it's difficult to get through several different questions in that time frame. \\nYou should do your best to talk out loud t\", 'content_type': 'text', 'score': 0.8446781335, 'meta': {'doc_type': 'vector'}, 'id_hash_keys': ['content'], 'embedding': None, 'id': '3a4a4200b73a0aab07f1c7cbd9caa735'}>, <Document: {'content': \"s to explore what areas of technology you're familiar with. \\nNext, you fly to Seattle (or whichever office you're interviewing for) for four or five interviews with one or \\ntwo teams that have selected you based on your resume and phone interviews. You will have to code on a \\nwhiteboard, and some interviewers will stress other skills. Interviewers are each assigned a specific area to \\nprobe and may seem very different from each other. They cannot see the other feedback until they have \\nsubmitted\", 'content_type': 'text', 'score': 0.839912981, 'meta': {'doc_type': 'vector'}, 'id_hash_keys': ['content'], 'embedding': None, 'id': 'd6335099aa506c5c6556ad120d71bda7'}>, <Document: {'content': \"line document editor. \\nAfter the phone interview(s), you might be asked to do a homework assignment that will include a mix of \\ncoding and algorithms. Pay attention to your coding style here. If you've never worked in an environment \\nwhich had thorough code reviews, it may be a good idea to get someone who has to review your code. \\nDuring your on-site interview, you will interview primarily with other software engineers, but hiring \\nmanagers are also involved whenever they are available. All int\", 'content_type': 'text', 'score': 0.8380204735, 'meta': {'doc_type': 'vector'}, 'id_hash_keys': ['content'], 'embedding': None, 'id': 'ef538cb8f7600ec9389b8e4257182ec7'}>, <Document: {'content': \"on, a candidate may only do one phone screen. \\nThe engineer who interviews you will usually ask you to write simple code via a shared document editor. \\nThey will also often ask a broad set of questions to explore what areas of technology you're familiar with. \\nNext, you fly to Seattle (or whichever office you're interviewing for) for four or five interviews with one or \\ntwo teams that have selected you based on your resume and phone interviews. You will have to code on a \\nwhiteboard, and some in\", 'content_type': 'text', 'score': 0.8343574405, 'meta': {'doc_type': 'vector'}, 'id_hash_keys': ['content'], 'embedding': None, 'id': '63e845fc453e406698cb3748c1adc8dd'}>, <Document: {'content': 'the ground running, they are likely to assess your \\nskills with specific programming languages. If you know a language that the startup works with, make \\nsure to brush up on the details. \\nExperience: Startups are likely to ask you a lot of questions about your experience. Pay special attention \\nto the Behavioral Questions section. \\nIn addition to the above areas, the coding and algorithms questions that you see in this book are also very \\ncommon. \\n18 \\nCracking the Coding Interview, 6th Edition \\n', 'content_type': 'text', 'score': 0.8342523575, 'meta': {'doc_type': 'vector'}, 'id_hash_keys': ['content'], 'embedding': None, 'id': '66dc5042a398f073352886020361d0f3'}>, <Document: {'content': \" greeted by the recruiter who provides an overview of the \\nprocess. You will then have 6-8 interviews with members of the team with which you're interviewing, as well \\nas key people with whom your team works. \\nCrackingTheCodinglnterview.com j 6th Edition \\n11 \\n11 I Behind the Scenes \\nYou can expect a mix of one-on-one and two-on-one interviews. Be ready to code on a whiteboard and \\nmake sure all of your thoughts are clearly communicated. Lunch is with your potential future manager and \\nappears mo\", 'content_type': 'text', 'score': 0.8331483900000001, 'meta': {'doc_type': 'vector'}, 'id_hash_keys': ['content'], 'embedding': None, 'id': '2ba63f7121713711c084f0b0b1daaaa'}>, <Document: {'content': 'blems. \\nMy Approach \\nThe focus of Cracking the Coding Interview is algorithm, coding, and design questions. Why? Because \\nwhile you can and will be asked behavioral questions, the answers will be as varied as your resume. Like\\xad\\nwise, while many firms will ask so-called \"trivia\" questions (e.g., \"What is a virtual function?\"), the skills devel\\xad\\noped through practicing these questions are limited to very specific bits of knowledge. The book will briefly \\ntouch on some of these questions to show yo', 'content_type': 'text', 'score': 0.8310033084999999, 'meta': {'doc_type': 'vector'}, 'id_hash_keys': ['content'], 'embedding': None, 'id': '9d768da7a47a48a6476247d592056616'}>, <Document: {'content': \"tion, and quick debugging. Coding on paper does not. Get used to this-and to how slow it is to write\\nand edit code-by coding on paper.\\n3. Test your code-on paper. This means testing the general cases, base cases, error cases, and so on. You'll\\nneed to do this during your interview, so it's best to practice this in advance.\\n4. Type your paper code as-is into a computer. You will probably make a bunch of mistakes. Start a list of all\\nthe errors you make so that you can keep these in mind during th\", 'content_type': 'text', 'score': 0.8264506755000001, 'meta': {'doc_type': 'vector'}, 'id_hash_keys': ['content'], 'embedding': None, 'id': '5240ee47f4c7b159c340266116528e08'}>, <Document: {'content': \"nd learn their patterns. It's about developing a fresh algorithm, not memorizing existing \\nproblems. \\nCracking the Coding Interview is the result of my first-hand experience interviewing at top companies and \\nlater coaching candidates through these interviews. It is the result of hundreds of conversations with candi\\xad\\ndates. It is the result of the thousands of questions contributed by candidates and interviewers. And it's the \\nresult of seeing so many interview questions from so many firms. Encl\", 'content_type': 'text', 'score': 0.8232085405, 'meta': {'doc_type': 'vector'}, 'id_hash_keys': ['content'], 'embedding': None, 'id': '9bedc26b6b4bedb7bfe14f0fdbc5f0cc'}>, <Document: {'content': 'ical interview. \\nMany companies have taken advantage of online synchronized document editors, but others will expect \\nyou to write code on paper and read it back over the phone. Some interviewers may even give you \"home\\xad\\nwork\"to solve after you hang up the phone or just ask you to email them the code you wrote. \\nYou typically do one or two screening interviewers before being brought on-site. \\nIn an on-site interview round, you usually have 3 to 6 in-person interviews. One of these is often over ', 'content_type': 'text', 'score': 0.818830073, 'meta': {'doc_type': 'vector'}, 'id_hash_keys': ['content'], 'embedding': None, 'id': '385cbae114f8e72634ae2cb0b581c7d0'}>], 'root_node': 'Query', 'params': {}, 'query': 'What happens during a coding interview?', 'node_id': 'prompt_node'}\n"
     ]
    }
   ],
   "source": [
    "output = pipeline.run(query=\"What happens during a coding interview?\")\n",
    "print(output)"
   ]
  },
  {
   "cell_type": "code",
   "execution_count": 68,
   "id": "337c4d93-9ed7-465b-83de-3ab81b6a0d1d",
   "metadata": {},
   "outputs": [
    {
     "data": {
      "application/vnd.jupyter.widget-view+json": {
       "model_id": "2c9c0958abc1488f8455612e7c4181ce",
       "version_major": 2,
       "version_minor": 0
      },
      "text/plain": [
       "Batches:   0%|          | 0/1 [00:00<?, ?it/s]"
      ]
     },
     "metadata": {},
     "output_type": "display_data"
    },
    {
     "ename": "Exception",
     "evalue": "Exception while running node 'prompt_node': Invalid parameter 'top_k' for the node 'prompt_node'.\nEnable debug logging to see the data that was passed when the pipeline failed.",
     "output_type": "error",
     "traceback": [
      "\u001b[1;31m---------------------------------------------------------------------------\u001b[0m",
      "\u001b[1;31mException\u001b[0m                                 Traceback (most recent call last)",
      "File \u001b[1;32m~\\.vscode\\omnistudy-AI_Testing\\venv\\lib\\site-packages\\haystack\\pipelines\\base.py:567\u001b[0m, in \u001b[0;36mPipeline.run\u001b[1;34m(self, query, file_paths, labels, documents, meta, params, debug)\u001b[0m\n\u001b[0;32m    566\u001b[0m start \u001b[38;5;241m=\u001b[39m time()\n\u001b[1;32m--> 567\u001b[0m node_output, stream_id \u001b[38;5;241m=\u001b[39m \u001b[38;5;28;43mself\u001b[39;49m\u001b[38;5;241;43m.\u001b[39;49m\u001b[43m_run_node\u001b[49m\u001b[43m(\u001b[49m\u001b[43mnode_id\u001b[49m\u001b[43m,\u001b[49m\u001b[43m \u001b[49m\u001b[43mnode_input\u001b[49m\u001b[43m)\u001b[49m\n\u001b[0;32m    568\u001b[0m \u001b[38;5;28;01mif\u001b[39;00m \u001b[38;5;124m\"\u001b[39m\u001b[38;5;124m_debug\u001b[39m\u001b[38;5;124m\"\u001b[39m \u001b[38;5;129;01min\u001b[39;00m node_output \u001b[38;5;129;01mand\u001b[39;00m node_id \u001b[38;5;129;01min\u001b[39;00m node_output[\u001b[38;5;124m\"\u001b[39m\u001b[38;5;124m_debug\u001b[39m\u001b[38;5;124m\"\u001b[39m]:\n",
      "File \u001b[1;32m~\\.vscode\\omnistudy-AI_Testing\\venv\\lib\\site-packages\\haystack\\pipelines\\base.py:469\u001b[0m, in \u001b[0;36mPipeline._run_node\u001b[1;34m(self, node_id, node_input)\u001b[0m\n\u001b[0;32m    468\u001b[0m \u001b[38;5;28;01mdef\u001b[39;00m \u001b[38;5;21m_run_node\u001b[39m(\u001b[38;5;28mself\u001b[39m, node_id: \u001b[38;5;28mstr\u001b[39m, node_input: Dict[\u001b[38;5;28mstr\u001b[39m, Any]) \u001b[38;5;241m-\u001b[39m\u001b[38;5;241m>\u001b[39m Tuple[Dict, \u001b[38;5;28mstr\u001b[39m]:\n\u001b[1;32m--> 469\u001b[0m     \u001b[38;5;28;01mreturn\u001b[39;00m \u001b[38;5;28mself\u001b[39m\u001b[38;5;241m.\u001b[39mgraph\u001b[38;5;241m.\u001b[39mnodes[node_id][\u001b[38;5;124m\"\u001b[39m\u001b[38;5;124mcomponent\u001b[39m\u001b[38;5;124m\"\u001b[39m]\u001b[38;5;241m.\u001b[39m_dispatch_run(\u001b[38;5;241m*\u001b[39m\u001b[38;5;241m*\u001b[39mnode_input)\n",
      "File \u001b[1;32m~\\.vscode\\omnistudy-AI_Testing\\venv\\lib\\site-packages\\haystack\\nodes\\base.py:201\u001b[0m, in \u001b[0;36mBaseComponent._dispatch_run\u001b[1;34m(self, **kwargs)\u001b[0m\n\u001b[0;32m    197\u001b[0m \u001b[38;5;250m\u001b[39m\u001b[38;5;124;03m\"\"\"\u001b[39;00m\n\u001b[0;32m    198\u001b[0m \u001b[38;5;124;03mThe Pipelines call this method when run() is executed. This method in turn executes the _dispatch_run_general()\u001b[39;00m\n\u001b[0;32m    199\u001b[0m \u001b[38;5;124;03mmethod with the correct run method.\u001b[39;00m\n\u001b[0;32m    200\u001b[0m \u001b[38;5;124;03m\"\"\"\u001b[39;00m\n\u001b[1;32m--> 201\u001b[0m \u001b[38;5;28;01mreturn\u001b[39;00m \u001b[38;5;28mself\u001b[39m\u001b[38;5;241m.\u001b[39m_dispatch_run_general(\u001b[38;5;28mself\u001b[39m\u001b[38;5;241m.\u001b[39mrun, \u001b[38;5;241m*\u001b[39m\u001b[38;5;241m*\u001b[39mkwargs)\n",
      "File \u001b[1;32m~\\.vscode\\omnistudy-AI_Testing\\venv\\lib\\site-packages\\haystack\\nodes\\base.py:234\u001b[0m, in \u001b[0;36mBaseComponent._dispatch_run_general\u001b[1;34m(self, run_method, **kwargs)\u001b[0m\n\u001b[0;32m    233\u001b[0m         \u001b[38;5;28;01mif\u001b[39;00m _k \u001b[38;5;129;01mnot\u001b[39;00m \u001b[38;5;129;01min\u001b[39;00m run_signature_args:\n\u001b[1;32m--> 234\u001b[0m             \u001b[38;5;28;01mraise\u001b[39;00m \u001b[38;5;167;01mException\u001b[39;00m(\u001b[38;5;124mf\u001b[39m\u001b[38;5;124m\"\u001b[39m\u001b[38;5;124mInvalid parameter \u001b[39m\u001b[38;5;124m'\u001b[39m\u001b[38;5;132;01m{\u001b[39;00m_k\u001b[38;5;132;01m}\u001b[39;00m\u001b[38;5;124m'\u001b[39m\u001b[38;5;124m for the node \u001b[39m\u001b[38;5;124m'\u001b[39m\u001b[38;5;132;01m{\u001b[39;00m\u001b[38;5;28mself\u001b[39m\u001b[38;5;241m.\u001b[39mname\u001b[38;5;132;01m}\u001b[39;00m\u001b[38;5;124m'\u001b[39m\u001b[38;5;124m.\u001b[39m\u001b[38;5;124m\"\u001b[39m)\n\u001b[0;32m    236\u001b[0m run_params\u001b[38;5;241m.\u001b[39mupdate(\u001b[38;5;241m*\u001b[39m\u001b[38;5;241m*\u001b[39mvalue)\n",
      "\u001b[1;31mException\u001b[0m: Invalid parameter 'top_k' for the node 'prompt_node'.",
      "\nThe above exception was the direct cause of the following exception:\n",
      "\u001b[1;31mException\u001b[0m                                 Traceback (most recent call last)",
      "Cell \u001b[1;32mIn[68], line 1\u001b[0m\n\u001b[1;32m----> 1\u001b[0m result_pipeline \u001b[38;5;241m=\u001b[39m \u001b[43mpipeline\u001b[49m\u001b[38;5;241;43m.\u001b[39;49m\u001b[43mrun\u001b[49m\u001b[43m(\u001b[49m\n\u001b[0;32m      2\u001b[0m \u001b[43m    \u001b[49m\u001b[43mquery\u001b[49m\u001b[38;5;241;43m=\u001b[39;49m\u001b[38;5;124;43m\"\u001b[39;49m\u001b[38;5;124;43mwho wrote this book?\u001b[39;49m\u001b[38;5;124;43m\"\u001b[39;49m\u001b[43m,\u001b[49m\n\u001b[0;32m      3\u001b[0m \u001b[43m    \u001b[49m\u001b[43mparams\u001b[49m\u001b[38;5;241;43m=\u001b[39;49m\u001b[43m{\u001b[49m\n\u001b[0;32m      4\u001b[0m \u001b[43m        \u001b[49m\u001b[38;5;124;43m\"\u001b[39;49m\u001b[38;5;124;43mRetriever\u001b[39;49m\u001b[38;5;124;43m\"\u001b[39;49m\u001b[43m:\u001b[49m\u001b[43m \u001b[49m\u001b[43m{\u001b[49m\u001b[38;5;124;43m\"\u001b[39;49m\u001b[38;5;124;43mtop_k\u001b[39;49m\u001b[38;5;124;43m\"\u001b[39;49m\u001b[43m:\u001b[49m\u001b[43m \u001b[49m\u001b[38;5;241;43m3\u001b[39;49m\u001b[43m}\u001b[49m\u001b[43m,\u001b[49m\n\u001b[0;32m      5\u001b[0m \u001b[43m        \u001b[49m\u001b[38;5;124;43m\"\u001b[39;49m\u001b[38;5;124;43mprompt_node\u001b[39;49m\u001b[38;5;124;43m\"\u001b[39;49m\u001b[43m:\u001b[49m\u001b[43m \u001b[49m\u001b[43m{\u001b[49m\u001b[38;5;124;43m\"\u001b[39;49m\u001b[38;5;124;43mtop_k\u001b[39;49m\u001b[38;5;124;43m\"\u001b[39;49m\u001b[43m:\u001b[49m\u001b[43m \u001b[49m\u001b[38;5;241;43m1\u001b[39;49m\u001b[43m}\u001b[49m\u001b[43m \u001b[49m\n\u001b[0;32m      6\u001b[0m \u001b[43m    \u001b[49m\u001b[43m}\u001b[49m\n\u001b[0;32m      7\u001b[0m \u001b[43m)\u001b[49m\n",
      "File \u001b[1;32m~\\.vscode\\omnistudy-AI_Testing\\venv\\lib\\site-packages\\haystack\\pipelines\\base.py:574\u001b[0m, in \u001b[0;36mPipeline.run\u001b[1;34m(self, query, file_paths, labels, documents, meta, params, debug)\u001b[0m\n\u001b[0;32m    570\u001b[0m \u001b[38;5;28;01mexcept\u001b[39;00m \u001b[38;5;167;01mException\u001b[39;00m \u001b[38;5;28;01mas\u001b[39;00m e:\n\u001b[0;32m    571\u001b[0m     \u001b[38;5;66;03m# The input might be a really large object with thousands of embeddings.\u001b[39;00m\n\u001b[0;32m    572\u001b[0m     \u001b[38;5;66;03m# If you really want to see it, raise the log level.\u001b[39;00m\n\u001b[0;32m    573\u001b[0m     logger\u001b[38;5;241m.\u001b[39mdebug(\u001b[38;5;124m\"\u001b[39m\u001b[38;5;124mException while running node \u001b[39m\u001b[38;5;124m'\u001b[39m\u001b[38;5;132;01m%s\u001b[39;00m\u001b[38;5;124m'\u001b[39m\u001b[38;5;124m with input \u001b[39m\u001b[38;5;132;01m%s\u001b[39;00m\u001b[38;5;124m\"\u001b[39m, node_id, node_input)\n\u001b[1;32m--> 574\u001b[0m     \u001b[38;5;28;01mraise\u001b[39;00m \u001b[38;5;167;01mException\u001b[39;00m(\n\u001b[0;32m    575\u001b[0m         \u001b[38;5;124mf\u001b[39m\u001b[38;5;124m\"\u001b[39m\u001b[38;5;124mException while running node \u001b[39m\u001b[38;5;124m'\u001b[39m\u001b[38;5;132;01m{\u001b[39;00mnode_id\u001b[38;5;132;01m}\u001b[39;00m\u001b[38;5;124m'\u001b[39m\u001b[38;5;124m: \u001b[39m\u001b[38;5;132;01m{\u001b[39;00me\u001b[38;5;132;01m}\u001b[39;00m\u001b[38;5;130;01m\\n\u001b[39;00m\u001b[38;5;124mEnable debug logging to see the data that was passed when the pipeline failed.\u001b[39m\u001b[38;5;124m\"\u001b[39m\n\u001b[0;32m    576\u001b[0m     ) \u001b[38;5;28;01mfrom\u001b[39;00m \u001b[38;5;21;01me\u001b[39;00m\n\u001b[0;32m    577\u001b[0m queue\u001b[38;5;241m.\u001b[39mpop(node_id)\n\u001b[0;32m    578\u001b[0m \u001b[38;5;66;03m#\u001b[39;00m\n",
      "\u001b[1;31mException\u001b[0m: Exception while running node 'prompt_node': Invalid parameter 'top_k' for the node 'prompt_node'.\nEnable debug logging to see the data that was passed when the pipeline failed."
     ]
    }
   ],
   "source": [
    "result_pipeline = pipeline.run(\n",
    "    query=\"who wrote this book?\",\n",
    "    params={\n",
    "        \"Retriever\": {\"top_k\": 3},\n",
    "        \"prompt_node\": {\"top_k\": 1} \n",
    "    }\n",
    ")"
   ]
  },
  {
   "cell_type": "code",
   "execution_count": 66,
   "id": "9a702122-fda7-4f5c-8aad-ea9848ce6386",
   "metadata": {},
   "outputs": [
    {
     "name": "stdout",
     "output_type": "stream",
     "text": [
      "<Answer: answer='I'm not sure if this is the right subreddit for this, but I'll give it a shot. I'm a software engineer, and I've been doing this for a while. I've been doing this for a while, and I've been doing it for a while. I'm not sure if this is the right subreddit for this, but I'll give it a shot. I'm going to try to explain this as best I can. I'm going to try to explain it', score=None, context=None>\n"
     ]
    }
   ],
   "source": [
    "print(result_pipeline[\"answers\"][0])"
   ]
  },
  {
   "cell_type": "code",
   "execution_count": null,
   "id": "4d854037-3ca1-43ff-a0e7-61f2c8915a53",
   "metadata": {},
   "outputs": [],
   "source": []
  },
  {
   "cell_type": "code",
   "execution_count": 42,
   "id": "662da22d-f8dc-4fbc-b54d-2342233136b0",
   "metadata": {},
   "outputs": [
    {
     "name": "stdout",
     "output_type": "stream",
     "text": [
      "I'm a software engineer. I'm not sure if this is the right place to ask this, but I'll give it a shot. I'm not sure if this is the right place to ask this, but I'll give it a shot. I'm a software engineer. I'm a software engineer. I'm a software engineer. I'm a software engineer. I'm a software engineer. I'm a software engineer. I'm a software engineer. I'm a software engineer.\n"
     ]
    }
   ],
   "source": [
    "# print(result[\"answers\"][0].answer)\n",
    "prin"
   ]
  },
  {
   "cell_type": "code",
   "execution_count": 22,
   "id": "86281bb1-287b-4df5-a946-267ea9d15391",
   "metadata": {},
   "outputs": [
    {
     "ename": "ImportError",
     "evalue": "cannot import name 'GenerativeQAPipeline' from 'haystack.pipelines' (C:\\Users\\Brady\\.vscode\\omnistudy-AI_Testing\\venv\\lib\\site-packages\\haystack\\pipelines\\__init__.py)",
     "output_type": "error",
     "traceback": [
      "\u001b[1;31m---------------------------------------------------------------------------\u001b[0m",
      "\u001b[1;31mImportError\u001b[0m                               Traceback (most recent call last)",
      "Cell \u001b[1;32mIn[22], line 1\u001b[0m\n\u001b[1;32m----> 1\u001b[0m \u001b[38;5;28;01mfrom\u001b[39;00m \u001b[38;5;21;01mhaystack\u001b[39;00m\u001b[38;5;21;01m.\u001b[39;00m\u001b[38;5;21;01mpipelines\u001b[39;00m \u001b[38;5;28;01mimport\u001b[39;00m GenerativeQAPipeline\n\u001b[0;32m      3\u001b[0m pipe \u001b[38;5;241m=\u001b[39m GenerativeQAPipeline(generator, retriever)\n",
      "\u001b[1;31mImportError\u001b[0m: cannot import name 'GenerativeQAPipeline' from 'haystack.pipelines' (C:\\Users\\Brady\\.vscode\\omnistudy-AI_Testing\\venv\\lib\\site-packages\\haystack\\pipelines\\__init__.py)"
     ]
    }
   ],
   "source": [
    "pt = PromptTemplate(\"lfqa\", \"question: {query} context: {join(documents, delimiter='<P>')}\")\n",
    "\n",
    "res = p.prompt(prompt_template=pt, query=query, documents=[Document(d) for d in documents])"
   ]
  }
 ],
 "metadata": {
  "kernelspec": {
   "display_name": "Python 3 (ipykernel)",
   "language": "python",
   "name": "python3"
  },
  "language_info": {
   "codemirror_mode": {
    "name": "ipython",
    "version": 3
   },
   "file_extension": ".py",
   "mimetype": "text/x-python",
   "name": "python",
   "nbconvert_exporter": "python",
   "pygments_lexer": "ipython3",
   "version": "3.10.6"
  }
 },
 "nbformat": 4,
 "nbformat_minor": 5
}
