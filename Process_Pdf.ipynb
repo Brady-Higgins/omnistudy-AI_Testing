{
 "cells": [
  {
   "cell_type": "code",
   "execution_count": 1,
   "id": "f68b1de0-28c6-4686-93ad-5a14c2d03583",
   "metadata": {},
   "outputs": [
    {
     "name": "stderr",
     "output_type": "stream",
     "text": [
      "C:\\Users\\Brady\\.vscode\\omnistudy-AI_Testing\\venv\\lib\\site-packages\\pinecone\\index.py:4: TqdmExperimentalWarning: Using `tqdm.autonotebook.tqdm` in notebook mode. Use `tqdm.tqdm` instead to force console mode (e.g. in jupyter console)\n",
      "  from tqdm.autonotebook import tqdm\n"
     ]
    },
    {
     "name": "stdout",
     "output_type": "stream",
     "text": [
      "WARNING:tensorflow:From C:\\Users\\Brady\\.vscode\\omnistudy-AI_Testing\\venv\\lib\\site-packages\\keras\\src\\losses.py:2976: The name tf.losses.sparse_softmax_cross_entropy is deprecated. Please use tf.compat.v1.losses.sparse_softmax_cross_entropy instead.\n",
      "\n"
     ]
    }
   ],
   "source": [
    "#Imports\n",
    "\n",
    "#env + system imports\n",
    "import os\n",
    "from dotenv import load_dotenv\n",
    "#pincone\n",
    "import pinecone  \n",
    "from haystack.document_stores import PineconeDocumentStore\n",
    "from haystack.nodes import PDFToTextConverter, PreProcessor, EmbeddingRetriever\n",
    "\n"
   ]
  },
  {
   "cell_type": "code",
   "execution_count": 2,
   "id": "38b90a6d-7c63-46a0-a27a-5034e5bf79c6",
   "metadata": {},
   "outputs": [],
   "source": [
    "#Load environment variables from .env file\n",
    "        # (overide = true) just forces a reload on the .env file in case api key changes\n",
    "# dotenv_path = os.path.join(os.path.dirname(os.path.abspath(__file__)), '..','..','..', 'client', '.env')\n",
    "load_dotenv(override=True)\n",
    "# Access the API key\n",
    "pinecone_api_key = os.getenv(\"PINECONE_API_KEY\")\n",
    "huggingface_api_token = os.getenv(\"HUGGING_FACE_API_TOKEN\")   \n"
   ]
  },
  {
   "cell_type": "code",
   "execution_count": 3,
   "id": "92ed47f3-3e58-4ab6-bd91-ecf21a58e538",
   "metadata": {},
   "outputs": [],
   "source": [
    "# Initialize the pinecone index\n",
    "index_name='haystack'\n",
    "pinecone.init(      \n",
    "api_key=pinecone_api_key,      \n",
    "environment='gcp-starter'      \n",
    ")      \n",
    "index = pinecone.Index(index_name=index_name)\n",
    "\n",
    "# Initialize the haystack document store object\n",
    "document_store = PineconeDocumentStore(\n",
    "api_key=pinecone_api_key,\n",
    "pinecone_index=index,\n",
    "similarity=\"cosine\",\n",
    "embedding_dim=768\n",
    ")"
   ]
  },
  {
   "cell_type": "code",
   "execution_count": 13,
   "id": "b598d2c5-8d64-45cf-bd63-d4ada662f9ca",
   "metadata": {},
   "outputs": [],
   "source": [
    "path=\".\\Textbooks\\Bellack A.S., Hersen M. (eds.) - Comprehensive Clinical Psychology. Volume 9-Elsevier (2000).pdf\""
   ]
  },
  {
   "cell_type": "code",
   "execution_count": 27,
   "id": "daa6de1a-5921-4571-8e9d-b5f3df7329b9",
   "metadata": {},
   "outputs": [
    {
     "name": "stderr",
     "output_type": "stream",
     "text": [
      "Preprocessing: 100%|███████████████████████████████████████████████████████████████████| 1/1 [00:10<00:00, 10.30s/docs]\n"
     ]
    }
   ],
   "source": [
    "#document preprocessing for summarization\n",
    "#Split by passage instead, split length referring to num of passages in vector\n",
    "#Won't work on books with very long chapters, but\n",
    "converter = PDFToTextConverter(remove_numeric_tables=True, valid_languages=[\"en\"], keep_physical_layout=False, multiprocessing=True)\n",
    "doc_pdf = converter.convert(file_path=path, meta=None)[0]\n",
    "preprocessor = PreProcessor(\n",
    "clean_empty_lines=True,\n",
    "clean_whitespace=True,\n",
    "clean_header_footer=True,\n",
    "split_by=\"token\",\n",
    "split_length=900,\n",
    "split_respect_sentence_boundary=True,    #prevents sentences from being cut off\n",
    "add_page_number=True,\n",
    ")\n",
    "docs = preprocessor.process([doc_pdf])\n"
   ]
  },
  {
   "cell_type": "code",
   "execution_count": 28,
   "id": "c874aa2d-59f8-4c32-99db-c6b545d3f9f6",
   "metadata": {},
   "outputs": [
    {
     "name": "stdout",
     "output_type": "stream",
     "text": [
      "681\n"
     ]
    }
   ],
   "source": [
    "print(len(docs))"
   ]
  },
  {
   "cell_type": "code",
   "execution_count": null,
   "id": "28fcd925-442d-4e12-9cd3-6d0a264438d9",
   "metadata": {},
   "outputs": [],
   "source": [
    "#document preprocessing for QA\n",
    "converter = PDFToTextConverter(remove_numeric_tables=True, valid_languages=[\"en\"], keep_physical_layout=False, multiprocessing=True)\n",
    "doc_pdf = converter.convert(file_path=path, meta=None)[0]\n",
    "preprocessor = PreProcessor(\n",
    "clean_empty_lines=True,\n",
    "clean_whitespace=True,\n",
    "clean_header_footer=True,\n",
    "split_by=\"word\",\n",
    "split_length=500,\n",
    "split_respect_sentence_boundary=True,    #prevents sentences from being cut off\n",
    ")\n",
    "docs = preprocessor.process([doc_pdf])\n",
    "\n"
   ]
  },
  {
   "cell_type": "code",
   "execution_count": 12,
   "id": "55f26899-24aa-4469-beca-36a51ddadcec",
   "metadata": {},
   "outputs": [
    {
     "name": "stdout",
     "output_type": "stream",
     "text": [
      "CRACKING\n",
      "\u0005\u0006the ·\n",
      "CODING INTERVIEW\n",
      "189 PROGRAMMING Q!JESTIONS & SOLUTIONS\f",
      "CRACKING\n",
      "the\n",
      "CODING INTERVIEW\f",
      "ALso BY GAYLE LAAKMANN McDowELL\n",
      "(RACKING THE PM INTERVIEW\n",
      "How TO LAND A PRODUCT MANAGER JoB IN TECHNOLOGY\n",
      "CRACKING THE TECH CAREER\n",
      "INSIDER ADVICE ON LANDING A JOB AT GOOGLE, MICROSOFT, APPLE, OR ANY TOP TECH COMPANY\f",
      "CRACKING\n",
      "the\n",
      "CODING INTERVIEW\n",
      "189 Programming Questions and Solutions\n",
      "GAYLE LAAKMANN MCDOWELL\n",
      "Founder and CEO, CareerCup.com\n",
      "CareerCup, LLC\n",
      "Palo Alto, CA\f",
      "CRACKING THE CODING INTERVIEW, SIXTH EDITION\n",
      "Copyright © 2015 by CareerCup.\n",
      "All rights reserved. No part of this book may be reproduced in any form by any electronic or me­\n",
      "chanical means, including information storage and retrieval systems, without permission in writing\n",
      "from the author or publisher, except by a reviewer who may quote brief passages in a review.\n",
      "Published by CareerCup, LLC, Palo Alto, CA. Compiled Feb 10, 2016.\n",
      "For more information, contact support@careercup.com.\f",
      "For Davis and Tobin,\n",
      "and all the things that bring us joy in life.\f",
      "Introduction\n",
      "Introduction . . . . . . . . . . . . . . . . . . . . . . . . . . . .  • · • . • · · • • · · • · · · · · · · · · · · · · · · · · 2\n",
      "I.\n",
      "The Interview Process . . . . . . . . . . . . . . . . . . . . . . . . . . . . . . . .  · . .  · · . · · · · · · · · · 4\n",
      "Why? .... · .................................................... ····· 4\n",
      "How Questions are Selected .............................................. 6\n",
      "It's All Relative . . . . . . . . . . . . . . . . . . . . . . . . . . . . . . . . . . . . . . . . . . . . . . . . . . . . . . . 7\n",
      "Frequently Asked Questions .............................................. 7\n",
      "II.\n",
      "Behind the Scenes . . . . . . . . . . . . . . . . . . . . . . . . . . . . . . . . . . . . . . . . . . . . • . . . . .  8\n",
      "The Microsof t Interview ................................................. 9\n",
      "The Amazon Interview ............... , . . . . . . . . . . . . . . . . . . . . . . . . . . . . . . . . . 10\n",
      "The Google Interview ................................................. 10\n",
      "The Apple Interview .................................................. 11\n",
      "The Face book Interview . . . . . . . . . . . . . . . . . . . . . . . . . . . . . . . . . . . . . . . . . . . . . . . . 12\n",
      "The Palantir Interview .................................................. 13\n",
      "Ill.\n",
      "Special Situations . . . . . . . . . . . . . . . . . . . . . . . . . . . . . . . . . . . . . . . . . . . . . . . . .  15\n",
      "Experienced Candidates. . . . . . . . . . . . . . . . . . . . . . . . . . . . . . . . . . . . . . . . . . . . . . . . 15\n",
      "Testers and SDETs .................................................... 15\n",
      "Product (and Program) Management ....................................... 16\n",
      "Dev Lead and Managers. . . . . . . . . . . . . . . . . . . . . . . . . . . . . . . . . . . . . . . . . . . . . . . . 17\n",
      "Startups . . . . . . . . . . . . . . . . . . . . . . . . . . . . . . . . . . . . . . . . . . . . . . . . . . . . . . . . . . 18\n",
      "Acquisitions and Acquihires ............................................. 19\n",
      "For Interviewers ..................................................... 21\n",
      "IV.\n",
      "Before the Interview . . . . . . . . . . . . . . . . . . . . . . . . . . . . . . . . . . . . . . . . . . . . . . .  26\n",
      "Getting the Right Experience ............................................. 26\n",
      "Writing a Great Resume . . . . . . . . . . . . . . . . . . . . . . . . . . . . . . . . . . . . . . . . . . . . . . . . 27\n",
      "Preparation Map ..................................................... 30\n",
      "V.\n",
      "Behavioral Questions . . . . . . . . . . . . . . . . • . . . . . . . . . . . . . . . • . . . • . . . • . . . . .  32\n",
      "Interview Preparation Grid .............................................. 32\n",
      "KnowYourTechnical Projects ............................................. 33\n",
      "Responding to Behavioral Questions ........................................ 34\n",
      "So, tell me about yourself.. . . . . . . . . . . . . . . . . . . . . . . . . . . . . . . . . . . . . . . . . . . . . . . . 36\n",
      "VI. BigO ......................................................... 38\n",
      "An Analogy . . . . . . . . . . . . . . . . . . . . . . . . . . . . . . . . . . . . . . . . . . . . . . . . . . . . . . . . 38\n",
      "Time Complexity ..................................................... 38\n",
      "Space Complexity. . . . . . . . . . . . . . . . . . . . . . . . . . . . . . . . . . . . . . . . . . . . . . . . . . . . 40\n",
      "Drop the Constants ................................................... 41\n",
      "Drop the Non-Dominant Terms ........................................... 42\n",
      "VI\n",
      "Cracking the Coding Interview, 6th Edition\f",
      "Introduction\n",
      "Multi-Part Algorithms: Add vs. Multiply ...................................... 42\n",
      "Amortized Time ............................................ · . . . . . . . . . 43\n",
      "Log N Runtimes ..................................................... 44\n",
      "Recursive Runtimes ................................................... 44\n",
      "Examples and Exercises ................................................ 45\n",
      "VII. Technical Questions . . . . . . . . . . . . . . . . . . . . . . . . . . . . . . . . . . . . . . . . . . . . . . .  60\n",
      "How to Prepare . . . . . . . . . . . . . . . . . . . . . . . . . . . . . . . . . . . . . . . . . . . . . . . . . . . . . 60\n",
      "What You Need To Know. . . . . . . . . . . . . . . . . . . . . . . . . . . . . . . . . . . . . . . . . . . . . . . . 60\n",
      "Walking Through a Problem . . . . . . . . . . . . . . . . . . . . . . . . . . . . . . . . . . . . . . . . . . . . . 62\n",
      "Optimize & Solve Technique #1: Look for BUD .................................. 67\n",
      "Optimize & Solve Technique #2: DIY (Do It Yourself) .............................. 69\n",
      "Optimize & Solve Technique #3: Simplify and Generalize ........................... 71\n",
      "Optimize & Solve Technique #4: Base Cas e and Build .............................. 71\n",
      "Optimize & Solve Technique #5: Data Structure Brainstorm. . . . . . . . . . . . . . . . . . . . . . . . . . 72\n",
      "Best Conceivable Runtime (BCR) ........................................... 72\n",
      "Handling Incorrect Answers . . . . . . . . . . . . . . . . . . . . . . . . . . . . . . . . . . . . . . . . . . . . . 76\n",
      "When You've Heard a Question Before. . . . . . . . . . . . . . . . . . . . . . . . . . . . . . . . . . . . . . . 76\n",
      "The \"Perfect\" Language for Interviews . . . . . . . . . . . . . . . . . . . . . . . . . . . . . . . . . . . . . . . 76\n",
      "What Good Coding Looks Like . . . . . . . . . . . . . . . . . . . . . . . . . . . . . . . . . . . . . . . . . . . . 77\n",
      "Don't Give Up! ...................................................... 81\n",
      "VIII. The Offer and Beyond . . . . . . . . . . . . . . . . . . . . . . . . . . . . . . . . . . . . . . . . . . . . . .  82\n",
      "Handling Offers and Rejection . . . . . . . . . . . . . . . . . . . . . . . . . . . . . . . . . . . . . . . . . . . . 82\n",
      "Evaluating the Offer. . . . . . . . . . . . . . . . . . . . . . . . . . . . . . . . . . . . . . . . . . . . . . . . . . . 83\n",
      "Negotiation . . . . . . . . . . . . . . . . . . . . . . . . . . . . . . . . . . . . . . . . . . . . . . . . . . . . . . . . 84\n",
      "On the Job . . . . . . . . . . . . . . . . . . . . . . . . . . . . . . . . . . . . . . . . . . . . . . . . . . . . . . . . 85\n",
      "IX.\n",
      "Interview Questions . . . . . . . . . . . . . . . . . . . . . . . . . . . . . . . . . . . . . . . . . . . . . . .  87\n",
      "Data Structures . . . . • . . . . . . . . . . . . . . . . . . . . . . . . . . . . . . . . . . . . . . . . . . . . .  88\n",
      "Chapter 1 I Arrays and Strings . . . . . . . . . . . . . . . . . . . . . . . . . . . . . . . . . . . . . . . . . . . . 88\n",
      "Hash Tables . .......................................................... 88\n",
      "ArrayList & Resizable Arrays . ............................................... 89\n",
      "StringBuilder . ......................................................... 89\n",
      "Chapter 2 I Linked Lists. . . . . . . . . . . . . . . . . . . . . . . . . . . . . . . . . . . . . . . . . . . . . . . . . 92\n",
      "Creating a Linked List .................................................... 92\n",
      "Deleting a Node from a Singly Linked List . ...................................... 93\n",
      "The \"Runner\"Technique .................................................. 93\n",
      "Recursive Problems . ..................................................... 93\n",
      "CrackingTheCodinglnterview.com \\ 6th Edition\n",
      "VII\f",
      "Introduction\n",
      "Chapter 3 J Stacks and Queues. . . . . . . . . . . . . . . . . . . . . . . . . . . . . . . . . . . . . . . . . . . . 96\n",
      "Implementing a Stock . ................................................... 96\n",
      "Implementing a Queue . .................................................. 97\n",
      "Chapter 4 \\ Trees and Graphs ............................................. 100\n",
      "Types of Trees ........................................................ 100\n",
      "Binary Tree Traversal. . . . . . . . . . . . . . . . . . . . . . . . . . . . . . . . . . . . . . . . . . . . . . . . . . . . 103\n",
      "Binary Heaps (Min-Heaps and Mox-Heaps) .................................... 103\n",
      "Tries (Prefix Trees). . . . . . . . . . . . . . . . . . . . . . . . . . . . . . . . . . . . . . . . . . . . . . . . . . . . . . 105\n",
      "Graphs . ............................................................ 105\n",
      "Graph Search ........................................................ 1 07\n",
      "Concepts and Algorithms ........................................... 112\n",
      "Chapter 5 \\ Bit Manipulation ............................................. 112\n",
      "Bit Manipulation By Hand . . . . . . . . . . . . . . . . . . . . . . . . . . . . . . . . . . . . . . . . . . . . . . . . 112\n",
      "Bit Facts and Tricks . .................................................... 112\n",
      "Two's Complement and Negative Numbers . .................................... 113\n",
      "Arithmetic vs. Logical Right Shift ........................... x ................ 113\n",
      "Common Bit Tasks: Getting and Setting . . . . . . . . . . . . . . . . . . . . . . . . . . . . . . . . . . . . . . . 114\n",
      "Chapter 6 \\ Math and Logic Puzzles ......................................... 117\n",
      "Prime Numbers . . . . . . . . . . . . . . . . . . . . . . . . . . . . . . . . . . . . . . . . . . . . . .\n"
     ]
    }
   ],
   "source": [
    "print(docs[0].content)"
   ]
  },
  {
   "cell_type": "code",
   "execution_count": 29,
   "id": "28e33fb3-31e3-4b75-8029-c2836288d27a",
   "metadata": {},
   "outputs": [],
   "source": [
    "num_docs = len(docs)\n",
    "for i in range(num_docs):\n",
    "    strip_text = docs[i].content.replace('\\n', ' ')\n",
    "    docs[i].content = strip_text\n",
    "    \n"
   ]
  },
  {
   "cell_type": "code",
   "execution_count": 36,
   "id": "4ca9899c-09eb-4888-a1a6-3ab035d80de6",
   "metadata": {},
   "outputs": [
    {
     "name": "stdout",
     "output_type": "stream",
     "text": [
      "{'_split_id': 1, 'page': 2}\n"
     ]
    }
   ],
   "source": [
    "print(docs[1].meta)"
   ]
  },
  {
   "cell_type": "code",
   "execution_count": 37,
   "id": "8c27a63f-b859-47cc-a46e-8bc1d38927d8",
   "metadata": {},
   "outputs": [],
   "source": [
    "from transformers import pipeline\n",
    "summarizer = pipeline(\"summarization\", model=\"facebook/bart-large-cnn\")"
   ]
  },
  {
   "cell_type": "code",
   "execution_count": 40,
   "id": "79aa8191-b138-42d6-9958-d16e2362ede6",
   "metadata": {},
   "outputs": [],
   "source": [
    "begin_page = 1\n",
    "end_page = 4"
   ]
  },
  {
   "cell_type": "code",
   "execution_count": 60,
   "id": "618d2c30-c318-4522-97c8-a1ca50848e12",
   "metadata": {},
   "outputs": [],
   "source": [
    "begin = False\n",
    "end = False\n",
    "relevant_docs = []\n",
    "\n",
    "for i in range(num_docs):\n",
    "    meta = docs[i].meta\n",
    "    curr_page = meta['page']\n",
    "    if curr_page >= end_page and not end:\n",
    "        if begin:  \n",
    "            end = True\n",
    "            begin=False\n",
    "        else: \n",
    "            begin = True\n",
    "            i = i - 1 \n",
    "\n",
    "    if curr_page == begin_page:\n",
    "        begin = True\n",
    "\n",
    "    if begin:\n",
    "        relevant_docs.append(docs[i].content) \n",
    "\n",
    "    if end:\n",
    "        relevant_docs.append(docs[i].content)\n",
    "\n",
    "    if end:\n",
    "        break\n"
   ]
  },
  {
   "cell_type": "code",
   "execution_count": 61,
   "id": "c16328fa-8485-478c-972a-577b414ee3f6",
   "metadata": {},
   "outputs": [
    {
     "data": {
      "text/plain": [
       "810.0"
      ]
     },
     "execution_count": 61,
     "metadata": {},
     "output_type": "execute_result"
    }
   ],
   "source": [
    "relevant_docs_length = len(relevant_docs)\n",
    "relevant_docs_length * 900 * .3"
   ]
  },
  {
   "cell_type": "code",
   "execution_count": 80,
   "id": "842bdfce-ee47-4418-9464-004db724cf22",
   "metadata": {},
   "outputs": [
    {
     "name": "stdout",
     "output_type": "stream",
     "text": [
      "<class 'list'>\n"
     ]
    }
   ],
   "source": [
    "relevant_docs_length = len(relevant_docs)\n",
    "summ_docs = []\n",
    "for i in range(relevant_docs_length):\n",
    "    summ_text = summarizer(relevant_docs[i], max_length=150, min_length=40, do_sample=False)\n",
    "    summ_docs.append(summ_text)\n",
    "\n",
    "total_text = \"\"\n",
    "print(type(summ_docs[0]))\n",
    "for doc in summ_docs:\n",
    "    total_text += doc[0].get(\"summary_text\")\n",
    "summ_text = summarizer(total_text, max_length=200, min_length=100, do_sample=False)"
   ]
  },
  {
   "cell_type": "code",
   "execution_count": 81,
   "id": "d4d5a664-bc1d-4054-8453-5720887c2553",
   "metadata": {},
   "outputs": [
    {
     "name": "stdout",
     "output_type": "stream",
     "text": [
      "This volume reflects the breadth of research and clinical knowledge that psychologists have contributed to over the past several decades. Like psychiatry, Western psychology appears to be bound by its commitment to a disease conception of mental disorders. This has resulted in the unfortunate situation where many clinicians believe that mental disorders are biologically caused. There is a growing literature showing that the experience of being mentally ill is an interpretive enterprise, constructed by individuals. Volume 9: Applications in Diverse Populations Preface Contributors Section I: Individuals with Disabling Conditions, , 9.01  Mental Retardation,  Pages 1-17, Sarah W. Bisconer Janene N. Suttie. Section II: Families, , No title 9.11  Families of Individuals with HIV Infection/AIDS, Pages 169-182, Marc Tass&#xe9.\n"
     ]
    }
   ],
   "source": [
    "print(summ_text[0].get(\"summary_text\"))"
   ]
  },
  {
   "cell_type": "code",
   "execution_count": 25,
   "id": "fa4d4034-078d-4ae9-b010-95498e64e754",
   "metadata": {},
   "outputs": [
    {
     "name": "stdout",
     "output_type": "stream",
     "text": [
      "[{'summary_text': 'Obsessive thoughts and compulsive behaviors in adults with autism and OCD have been found to differ in some respects from those seen in OCD patients who are not autistic. Hyperactivity is a commonly reported beha- vioral feature of children with PDD. Stereotypy, self-injury, and pica are common associated behavior problems.'}]\n"
     ]
    }
   ],
   "source": [
    "print(summarizer(docs[40].content, max_length=130, min_length=30, do_sample=False))"
   ]
  },
  {
   "cell_type": "code",
   "execution_count": 26,
   "id": "f6fa0b3c-961d-4537-b741-4c2985dbad2f",
   "metadata": {},
   "outputs": [
    {
     "name": "stdout",
     "output_type": "stream",
     "text": [
      "Many younger, lower-functioning children with Phenomenology\f",
      "autism display repetitive motor movements such as: rocking; toe-walking; arm, hand, or finger flapping; and whirling (Volkmar, Cohen, & Paul, 1986). These behaviors have a compul- sive quality and may be associated with anxiety but their relationship to obsessive-compulsive disorder (OCD), if any, is unclear. Obsessional thinking is also common in persons in the PDD spectrum. Such thinking is most common, or at least most readily de- tected, in highly verbal individuals. The content of obsessional thinking in PDD is likely to be idiosyncratic, though it may be similar in other respects to that described for OCD. Obsessive thoughts and compulsive behaviors in adults with autism and OCD have been found to differ in some respects from those seen in OCD patients who are not autistic; individuals with autism and OCD were more likely to display hoarding, touching, tapping, rubbing, and self- damaging behavior and were less likely to report repetitive thoughts involving aggression or symmetry or to engage in checking and counting (McDougle et al., 1995). Other anxiety symp- toms are also frequently observed in individuals across the entire spectrum of PDDs; such symptoms include diffuse externalizing beha- vior problems in lower-functioning individuals, while persons with more typical intellectual skills may manifest obsessive worrying, psycho- motor agitation, and excessive and rapid speech. While not common, a number of case reports document the late-childhood or adolescent onset of schizophrenia in individuals with a clear-cut diagnosis of autism in childhood (Petty, Ornitz, Michelman, & Zimmerman, 1984). Most adults with autism are distinguish- able from adults with schizophrenia, however, by the absence of positive symptoms of thought disorder (e.g., derailment and illogicality) although they manifest similar affective flatten- ing (Rumsey, Andreasen, & Rapoport, 1986). 9.02.2.6.5 Other behavior problems Hyperactivity is a commonly reported beha- vioral feature of children with PDD. Cross- sectional studies suggest that hyperactivity tends to decline from middle childhood to adoles- cence, although other behavior problems may persist or increase (Ando & Yoshimura, 1979). Stereotypy, self-injury, and pica are common associated behavior problems, particularly in children with marked intellectual impairment. Many forms of behavior problems in persons with PDD have been hypothesized to serve communicative functions (Donnellan, Mirenda, Mesaros, & Fassbender, 1984). From this perspective, describing the exact form of the maladaptive behavior is less important than determining the behavior's function. The re- sulting functional analytic approach has been productive in expanding the nature and range of specific intervention strategies for problem behaviors in persons with PDD. 9.02.2.7 Adolescents and Adults with Pervasive Developmental Disorders Some individuals with autism show improve- ment with the onset of puberty (Kanner, Rodriguez, & Ashenden, 1972), but adolescence is more commonly marked by increased diffi- culties (Gillberg, 1984). It is not uncommon for adolescents with no history of seizures to ex- perience an onset of epilepsy during puberty, especially those with more severe intellectual behavior are quite common during adolescence, including public exposure and masturbation, and inappropriate sexual advances. Adolescents with autism, particularly those with higher IQs, may be vulnerable to depression as they become awareoftheextenttowhichtheydifferfromtheir peers. Behavioral problems may be exacerbated, especially in youth who experience marked physical changes as a result of puberty (Gillberg & Schumann, 1981). The social impairment of the PDDs persists throughout the life-span. \n"
     ]
    }
   ],
   "source": [
    "print(docs[40].content)"
   ]
  },
  {
   "cell_type": "code",
   "execution_count": null,
   "id": "eb8f7ed1-fff6-43bc-bdc3-e1618ff56377",
   "metadata": {},
   "outputs": [],
   "source": []
  }
 ],
 "metadata": {
  "kernelspec": {
   "display_name": "Python 3 (ipykernel)",
   "language": "python",
   "name": "python3"
  },
  "language_info": {
   "codemirror_mode": {
    "name": "ipython",
    "version": 3
   },
   "file_extension": ".py",
   "mimetype": "text/x-python",
   "name": "python",
   "nbconvert_exporter": "python",
   "pygments_lexer": "ipython3",
   "version": "3.10.6"
  }
 },
 "nbformat": 4,
 "nbformat_minor": 5
}
