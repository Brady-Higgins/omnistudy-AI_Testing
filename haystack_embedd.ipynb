{
 "cells": [
  {
   "cell_type": "code",
   "execution_count": 1,
   "id": "989af90e-9b1e-47f9-be9b-8375728b97a7",
   "metadata": {},
   "outputs": [
    {
     "name": "stdout",
     "output_type": "stream",
     "text": [
      "WARNING:tensorflow:From C:\\Users\\Brady\\.vscode\\omnistudy-AI_Testing\\venv\\lib\\site-packages\\keras\\src\\losses.py:2976: The name tf.losses.sparse_softmax_cross_entropy is deprecated. Please use tf.compat.v1.losses.sparse_softmax_cross_entropy instead.\n",
      "\n"
     ]
    }
   ],
   "source": [
    "from haystack.utils import convert_files_to_docs\n",
    "#env + system imports\n",
    "from dotenv import load_dotenv\n",
    "import os\n",
    "#pincone\n",
    "import pinecone  \n",
    "from haystack.document_stores import PineconeDocumentStore\n",
    "from haystack.pipelines import DocumentSearchPipeline\n",
    "from haystack.nodes import PromptNode, PromptTemplate, AnswerParser, EmbeddingRetriever\n",
    "from haystack import Pipeline\n",
    "from haystack.nodes import TextConverter, PDFToTextConverter, DocxToTextConverter, PreProcessor\n",
    "from haystack import Document"
   ]
  },
  {
   "cell_type": "code",
   "execution_count": 2,
   "id": "79cc9320-c961-4fc6-bbe3-adf4452b478d",
   "metadata": {},
   "outputs": [],
   "source": [
    "load_dotenv(override=True)\n",
    "# Access the API key\n",
    "pinecone_api_key = os.getenv(\"PINECONE_API_KEY\")\n",
    "huggingface_api_token = os.getenv(\"HUGGING_FACE_API_TOKEN\")\n"
   ]
  },
  {
   "cell_type": "code",
   "execution_count": 3,
   "id": "f0372324-04bf-4d15-a3b9-213c5303f9d6",
   "metadata": {},
   "outputs": [],
   "source": [
    "index_name='haystack'\n",
    "pinecone.init(      \n",
    "api_key=pinecone_api_key,      \n",
    "environment='gcp-starter'      \n",
    ")      \n",
    "index = pinecone.Index(index_name=index_name)\n",
    "\n",
    "#Initialize the haystack document store object\n",
    "document_store = PineconeDocumentStore(\n",
    "api_key=pinecone_api_key,\n",
    "pinecone_index=index,\n",
    "similarity=\"cosine\",\n",
    "embedding_dim=768\n",
    ")"
   ]
  },
  {
   "cell_type": "code",
   "execution_count": 4,
   "id": "1ca8985c-8482-476a-9f2d-f020af9de610",
   "metadata": {},
   "outputs": [
    {
     "name": "stderr",
     "output_type": "stream",
     "text": [
      "Preprocessing:   0%|                                                                                  | 0/1 [00:00<?, ?docs/s]We found one or more sentences whose split count is higher than the split length.\n",
      "Preprocessing: 100%|██████████████████████████████████████████████████████████████████████████| 1/1 [00:00<00:00,  1.52docs/s]"
     ]
    },
    {
     "name": "stdout",
     "output_type": "stream",
     "text": [
      "n_docs_output: 1096\n"
     ]
    },
    {
     "name": "stderr",
     "output_type": "stream",
     "text": [
      "\n"
     ]
    }
   ],
   "source": [
    "doc_dir=\"./Textbooks/CrackingTheCodingInterview.pdf\"\n",
    "# all_docs = convert_files_to_docs(dir_path=doc_dir)\n",
    "converter = PDFToTextConverter(remove_numeric_tables=True, valid_languages=[\"en\"])\n",
    "doc_pdf = converter.convert(file_path=doc_dir, meta=None)[0]\n",
    "\n",
    "from haystack.nodes import PreProcessor\n",
    "preprocessor = PreProcessor(\n",
    "clean_empty_lines=True,\n",
    "clean_whitespace=True,\n",
    "clean_header_footer=False,\n",
    "split_by=\"word\",\n",
    "split_length=250,\n",
    "split_respect_sentence_boundary=True,    #prevents sentences from being cut off\n",
    ")\n",
    "docs = preprocessor.process([doc_pdf])\n",
    "print(f\"n_docs_output: {len(docs)}\")"
   ]
  },
  {
   "cell_type": "code",
   "execution_count": 5,
   "id": "258298df-d9c0-4c10-a96d-64ae50c5a7d2",
   "metadata": {},
   "outputs": [
    {
     "name": "stderr",
     "output_type": "stream",
     "text": [
      "C:\\Users\\Brady\\.vscode\\omnistudy-AI_Testing\\venv\\lib\\site-packages\\torch\\_utils.py:831: UserWarning: TypedStorage is deprecated. It will be removed in the future and UntypedStorage will be the only storage class. This should only matter to you if you are using storages directly.  To access UntypedStorage directly, use tensor.untyped_storage() instead of tensor.storage()\n",
      "  return self.fget.__get__(instance, owner)()\n"
     ]
    }
   ],
   "source": [
    "from haystack.nodes import EmbeddingRetriever\n",
    "retriever = EmbeddingRetriever(\n",
    "    document_store=document_store,\n",
    "    embedding_model=\"flax-sentence-embeddings/all_datasets_v3_mpnet-base\",\n",
    "    model_format=\"sentence_transformers\",\n",
    "    top_k=2\n",
    ")"
   ]
  },
  {
   "cell_type": "code",
   "execution_count": 6,
   "id": "be5401a5-63c5-4c87-a850-90e6b3e5313a",
   "metadata": {},
   "outputs": [
    {
     "data": {
      "application/vnd.jupyter.widget-view+json": {
       "model_id": "f988695a676d4243a8c701dd37f342e2",
       "version_major": 2,
       "version_minor": 0
      },
      "text/plain": [
       "Batches:   0%|          | 0/8 [00:00<?, ?it/s]"
      ]
     },
     "metadata": {},
     "output_type": "display_data"
    },
    {
     "name": "stderr",
     "output_type": "stream",
     "text": [
      "Writing Documents: 100%|███████████████████████████████████████████████████████████████████| 256/256 [00:01<00:00, 200.96it/s]\n"
     ]
    },
    {
     "data": {
      "application/vnd.jupyter.widget-view+json": {
       "model_id": "f67f35c4f40d4728861af4cdbb4f17d5",
       "version_major": 2,
       "version_minor": 0
      },
      "text/plain": [
       "Batches:   0%|          | 0/8 [00:00<?, ?it/s]"
      ]
     },
     "metadata": {},
     "output_type": "display_data"
    },
    {
     "name": "stderr",
     "output_type": "stream",
     "text": [
      "Writing Documents: 100%|███████████████████████████████████████████████████████████████████| 256/256 [00:00<00:00, 299.64it/s]\n"
     ]
    },
    {
     "data": {
      "application/vnd.jupyter.widget-view+json": {
       "model_id": "d1a6b43b33fb478684b382f931d0315b",
       "version_major": 2,
       "version_minor": 0
      },
      "text/plain": [
       "Batches:   0%|          | 0/8 [00:00<?, ?it/s]"
      ]
     },
     "metadata": {},
     "output_type": "display_data"
    },
    {
     "name": "stderr",
     "output_type": "stream",
     "text": [
      "Writing Documents: 100%|███████████████████████████████████████████████████████████████████| 256/256 [00:00<00:00, 260.40it/s]\n"
     ]
    },
    {
     "data": {
      "application/vnd.jupyter.widget-view+json": {
       "model_id": "3d4dc1fde683498bb0b6523ccf4b5805",
       "version_major": 2,
       "version_minor": 0
      },
      "text/plain": [
       "Batches:   0%|          | 0/8 [00:00<?, ?it/s]"
      ]
     },
     "metadata": {},
     "output_type": "display_data"
    },
    {
     "name": "stderr",
     "output_type": "stream",
     "text": [
      "Writing Documents: 100%|███████████████████████████████████████████████████████████████████| 256/256 [00:00<00:00, 273.14it/s]\n"
     ]
    },
    {
     "data": {
      "application/vnd.jupyter.widget-view+json": {
       "model_id": "0ef56ef8c8b741878c47a9c160eaf861",
       "version_major": 2,
       "version_minor": 0
      },
      "text/plain": [
       "Batches:   0%|          | 0/3 [00:00<?, ?it/s]"
      ]
     },
     "metadata": {},
     "output_type": "display_data"
    },
    {
     "name": "stderr",
     "output_type": "stream",
     "text": [
      "Writing Documents: 128it [00:00, 400.74it/s]                                                                                  \n"
     ]
    }
   ],
   "source": [
    "batch_size = 256\n",
    "total_doc_count = len(docs)\n",
    "\n",
    "counter = 0\n",
    "embedded_Docs = []\n",
    "for doc in docs:\n",
    "\n",
    "    embedded_Docs.append(doc)\n",
    "    counter += 1\n",
    "    if counter % batch_size == 0 or counter == total_doc_count:\n",
    "        embeds = retriever.embed_documents(embedded_Docs)\n",
    "        for i, doc in enumerate(embedded_Docs):\n",
    "            doc.embedding = embeds[i]\n",
    "        document_store.write_documents(embedded_Docs)\n",
    "        embedded_Docs.clear()\n",
    "    if counter == total_doc_count:\n",
    "        break\n"
   ]
  },
  {
   "cell_type": "code",
   "execution_count": null,
   "id": "5047486b-da81-451b-b142-e29fa10ebd40",
   "metadata": {},
   "outputs": [],
   "source": []
  }
 ],
 "metadata": {
  "kernelspec": {
   "display_name": "Python 3 (ipykernel)",
   "language": "python",
   "name": "python3"
  },
  "language_info": {
   "codemirror_mode": {
    "name": "ipython",
    "version": 3
   },
   "file_extension": ".py",
   "mimetype": "text/x-python",
   "name": "python",
   "nbconvert_exporter": "python",
   "pygments_lexer": "ipython3",
   "version": "3.10.6"
  }
 },
 "nbformat": 4,
 "nbformat_minor": 5
}
